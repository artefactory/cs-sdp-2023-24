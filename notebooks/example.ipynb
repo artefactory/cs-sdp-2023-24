{
 "cells": [
  {
   "cell_type": "code",
   "execution_count": 1,
   "metadata": {},
   "outputs": [],
   "source": [
    "import os\n",
    "import sys\n",
    "\n",
    "sys.path.append(\"../python\")\n",
    "\n",
    "import matplotlib.pyplot as plt\n",
    "import numpy as np"
   ]
  },
  {
   "cell_type": "code",
   "execution_count": 2,
   "metadata": {},
   "outputs": [],
   "source": [
    "from gurobipy import Model, GRB"
   ]
  },
  {
   "cell_type": "code",
   "execution_count": 3,
   "metadata": {},
   "outputs": [],
   "source": [
    "from data import Dataloader\n",
    "from models import RandomExampleModel, TwoClustersMIP\n",
    "import metrics"
   ]
  },
  {
   "cell_type": "code",
   "execution_count": 4,
   "metadata": {},
   "outputs": [],
   "source": [
    "# Loading the data\n",
    "data_loader = Dataloader(\"../data/dataset_4\") # Specify path to the dataset you want to load\n",
    "X, Y = data_loader.load()\n"
   ]
  },
  {
   "cell_type": "code",
   "execution_count": 6,
   "metadata": {},
   "outputs": [
    {
     "name": "stdout",
     "output_type": "stream",
     "text": [
      "Gurobi Optimizer version 10.0.3 build v10.0.3rc0 (win64)\n",
      "\n",
      "CPU model: 11th Gen Intel(R) Core(TM) i5-1135G7 @ 2.40GHz, instruction set [SSE2|AVX|AVX2|AVX512]\n",
      "Thread count: 4 physical cores, 8 logical processors, using up to 8 threads\n",
      "\n",
      "Optimize a model with 2044 rows, 1648 columns and 24816 nonzeros\n",
      "Model fingerprint: 0xc9858721\n",
      "Variable types: 848 continuous, 800 integer (800 binary)\n",
      "Coefficient statistics:\n",
      "  Matrix range     [6e-06, 1e+03]\n",
      "  Objective range  [1e+00, 1e+00]\n",
      "  Bounds range     [1e+00, 1e+00]\n",
      "  RHS range        [1e-03, 1e+03]\n",
      "Presolve removed 10 rows and 8 columns\n",
      "Presolve time: 0.05s\n",
      "Presolved: 2034 rows, 1640 columns, 22380 nonzeros\n",
      "Variable types: 840 continuous, 800 integer (800 binary)\n",
      "\n",
      "Root relaxation: objective 0.000000e+00, 979 iterations, 0.03 seconds (0.05 work units)\n",
      "\n",
      "    Nodes    |    Current Node    |     Objective Bounds      |     Work\n",
      " Expl Unexpl |  Obj  Depth IntInf | Incumbent    BestBd   Gap | It/Node Time\n",
      "\n",
      "     0     0    0.00000    0  228          -    0.00000      -     -    0s\n",
      "H    0     0                       5.1390729    0.00000   100%     -    0s\n",
      "H    0     0                       5.1234668    0.00000   100%     -    0s\n",
      "H    0     0                       5.0801584    0.00000   100%     -    0s\n",
      "     0     0    0.00000    0  196    5.08016    0.00000   100%     -    0s\n",
      "H    0     0                       5.0472438    0.00000   100%     -    0s\n",
      "     0     0    0.00000    0  217    5.04724    0.00000   100%     -    0s\n",
      "H    0     0                       4.6769817    0.00000   100%     -    0s\n",
      "     0     0    0.00000    0  206    4.67698    0.00000   100%     -    0s\n",
      "H    0     0                       4.6602734    0.00000   100%     -    1s\n",
      "     0     0    0.00000    0  202    4.66027    0.00000   100%     -    1s\n",
      "     0     0    0.00000    0  196    4.66027    0.00000   100%     -    1s\n",
      "     0     0    0.00000    0  197    4.66027    0.00000   100%     -    1s\n",
      "     0     0    0.00000    0  217    4.66027    0.00000   100%     -    1s\n",
      "     0     0    0.00000    0  203    4.66027    0.00000   100%     -    1s\n",
      "     0     0    0.00000    0  201    4.66027    0.00000   100%     -    1s\n",
      "     0     0    0.00000    0  201    4.66027    0.00000   100%     -    1s\n",
      "H    0     0                       4.4273231    0.00000   100%     -    1s\n",
      "     0     2    0.00000    0  201    4.42732    0.00000   100%     -    1s\n",
      "H   30    40                       4.4104198    0.00000   100%   187    2s\n",
      "H   31    40                       4.4028976    0.00000   100%   184    2s\n",
      "H   70   116                       3.9930652    0.00000   100%   109    2s\n",
      "H  128   184                       3.9224714    0.00000   100%   107    2s\n",
      "H  145   184                       3.8989770    0.00000   100%   110    2s\n",
      "H  165   184                       3.8632515    0.00000   100%   117    2s\n",
      "H  182   184                       3.8294774    0.00000   100%   123    2s\n",
      "H  208   549                       3.5792198    0.00000   100%   121    3s\n",
      "H  548   963                       3.5701050    0.00000   100%  79.7    3s\n",
      "*  639   963             160       2.2590110    0.00000   100%  70.9    3s\n",
      "H  994  1035                       2.0448785    0.00000   100%  57.1    3s\n",
      "* 1150  1022             222       1.9704481    0.00000   100%  55.0    3s\n",
      "H 1184  1095                       1.9199736    0.00000   100%  56.3    3s\n",
      "H 1229  1091                       1.9091566    0.00000   100%  57.8    3s\n",
      "  1318  1094    1.45462  150  100    1.90916    0.00000   100%  61.2    5s\n",
      "H 1318  1039                       1.6881289    0.00000   100%  61.2    6s\n",
      "H 1322   990                       1.4091286    0.00000   100%  61.0    6s\n",
      "H 1328   944                       1.2197134    0.00000   100%  60.8    7s\n",
      "H 1330   897                       1.0560575    0.00000   100%  60.7    7s\n",
      "H 1332   853                       0.2505986    0.00000   100%  60.6    7s\n",
      "H 1337   816                       0.2068951    0.00000   100%  67.7    7s\n",
      "H 1445   882                       0.1972015    0.00000   100%  74.8    8s\n",
      "H 1816   889                       0.1582669    0.00000   100%  79.9    9s\n",
      "  1852   938    0.05493   26  340    0.15827    0.00000   100%  81.4   10s\n",
      "H 2234   989                       0.1508898    0.00000   100%   100   11s\n",
      "H 2256   945                       0.1484580    0.00000   100%   101   11s\n",
      "H 2376   871                       0.1475671    0.00000   100%   101   11s\n",
      "H 2402   840                       0.1351596    0.00000   100%   102   12s\n",
      "H 2467   886                       0.1316142    0.00000   100%   105   12s\n",
      "H 2533   830                       0.1286855    0.00000   100%   105   12s\n",
      "H 2706   745                       0.1197556    0.00000   100%   109   13s\n",
      "H 2716   713                       0.1184490    0.00000   100%   110   13s\n",
      "H 2749   679                       0.1142673    0.00000   100%   110   13s\n",
      "H 2843   715                       0.0974120    0.00000   100%   112   14s\n",
      "  3163   877     cutoff   34         0.09741    0.00000   100%   118   15s\n",
      "H 3451   866                       0.0951412    0.00000   100%   125   17s\n",
      "  4262  1183    0.00862   29  214    0.09514    0.00000   100%   139   22s\n",
      "  5366  1546     cutoff   32         0.09514    0.00000   100%   143   25s\n",
      "  6979  2135    0.08269   34  255    0.09514    0.00000   100%   152   30s\n",
      "  8004  2481    0.04381   30  146    0.09514    0.00000   100%   156   35s\n",
      "  9817  2963    0.07710   36  177    0.09514    0.00000   100%   161   40s\n",
      " 10909  3207     cutoff   32         0.09514    0.00000   100%   165   45s\n",
      " 12334  3528    0.05739   26  291    0.09514    0.00000   100%   166   50s\n",
      " 14337  4097    0.03421   31  247    0.09514    0.00000   100%   171   56s\n",
      " 15014  4205     cutoff   37         0.09514    0.00000   100%   171   62s\n",
      " 15562  4260 infeasible   41         0.09514    0.00000   100%   172   65s\n",
      " 17091  4647     cutoff   33         0.09514    0.00000   100%   173   72s\n",
      " 18844  5017     cutoff   31         0.09514    0.00000   100%   174   76s\n",
      " 20735  5272    0.03253   32  209    0.09514    0.00000   100%   176   84s\n",
      " 20753  5397    0.07548   33  318    0.09514    0.00000   100%   176   86s\n",
      " 21360  5527     cutoff   32         0.09514    0.00000   100%   176   97s\n",
      " 22487  5780     cutoff   40         0.09514    0.00000   100%   178  101s\n",
      " 24505  6182     cutoff   36         0.09514    0.00000   100%   181  106s\n",
      " 25798  6354    0.08435   37  255    0.09514    0.00000   100%   181  110s\n",
      " 26895  6466    0.09130   35  292    0.09514    0.00000   100%   182  117s\n",
      " 27529  6676    0.08749   34  432    0.09514    0.00000   100%   182  121s\n",
      " 29414  7053    0.05438   38  199    0.09514    0.00000   100%   184  126s\n",
      " 31172  7371    0.02797   41  184    0.09514    0.00000   100%   184  131s\n",
      " 32679  7614    0.05109   35  306    0.09514    0.00000   100%   185  135s\n",
      " 34313  8011    0.03815   29  238    0.09514    0.00000   100%   186  140s\n",
      " 36319  8395    0.02831   35  250    0.09514    0.00000   100%   187  145s\n",
      " 36765  8392     cutoff   41         0.09514    0.00000   100%   187  151s\n",
      " 38206  8812    0.00000   33  225    0.09514    0.00000   100%   187  156s\n",
      " 39929  9154    0.01624   28  309    0.09514    0.00000   100%   187  161s\n",
      " 41989  9462    0.08488   39  238    0.09514    0.00000   100%   187  165s\n",
      " 43839  9823     cutoff   37         0.09514    0.00000   100%   188  170s\n",
      " 45509 10161     cutoff   32         0.09514    0.00000   100%   188  175s\n",
      " 46874 10435    0.06149   24  327    0.09514    0.00000   100%   188  181s\n",
      " 48595 10780    0.03394   29  225    0.09514    0.00000   100%   188  185s\n",
      " 50244 11136    0.06689   40  264    0.09514    0.00000   100%   188  190s\n",
      " 51461 11225    0.02022   32  224    0.09514    0.00000   100%   189  197s\n",
      " 51875 11436    0.07359   36  257    0.09514    0.00000   100%   189  200s\n",
      " 54673 11899    0.00022   31  222    0.09514    0.00000   100%   189  206s\n",
      " 56318 12237    0.03109   32  284    0.09514    0.00000   100%   189  210s\n",
      " 58528 12671    0.08303   41  149    0.09514    0.00000   100%   189  216s\n",
      " 60346 13089    0.07237   32  364    0.09514    0.00000   100%   190  220s\n",
      " 61662 13239     cutoff   34         0.09514    0.00000   100%   190  226s\n",
      " 62822 13512    0.00000   27  167    0.09514    0.00000   100%   190  230s\n",
      " 64547 13858    0.08293   34  273    0.09514    0.00000   100%   190  235s\n",
      " 66309 14212    0.04143   35  230    0.09514    0.00000   100%   191  240s\n",
      " 68112 14576    0.06634   35  295    0.09514    0.00000   100%   191  245s\n",
      " 69544 14807     cutoff   33         0.09514    0.00000   100%   192  259s\n",
      " 69979 14903    0.02759   33  232    0.09514    0.00000   100%   192  261s\n",
      " 71401 15175    0.00000   30  263    0.09514    0.00000   100%   192  265s\n"
     ]
    }
   ],
   "source": [
    "n_pieces = 5\n",
    "n_clusters = 2\n",
    "model_1 = TwoClustersMIP(n_pieces, n_clusters)\n",
    "model_1.fit(X[:400,:], Y[:400,:])"
   ]
  },
  {
   "cell_type": "code",
   "execution_count": 58,
   "metadata": {},
   "outputs": [
    {
     "data": {
      "text/plain": [
       "<models.RandomExampleModel at 0x23c119907c0>"
      ]
     },
     "execution_count": 58,
     "metadata": {},
     "output_type": "execute_result"
    }
   ],
   "source": [
    "# Let's train an example model\n",
    "model = RandomExampleModel() # Instantiation of the model with hyperparameters, if needed\n",
    "model.fit(X, Y) # Training of the model, using preference data"
   ]
  },
  {
   "cell_type": "code",
   "execution_count": 59,
   "metadata": {},
   "outputs": [
    {
     "name": "stdout",
     "output_type": "stream",
     "text": [
      "[[-0.02918935  0.26452602]\n",
      " [-0.23504386 -0.06949957]\n",
      " [-0.00167842 -0.08688312]\n",
      " [-0.05042343 -0.25713769]\n",
      " [-0.04372049  0.0350513 ]]\n"
     ]
    }
   ],
   "source": [
    "# First, let's see how our model reconsiders our preferences\n",
    "# Our data preferences were X[i] >> Y[i] for all i, let's see if our model agrees\n",
    "print((model.predict_utility(X) - model.predict_utility(Y))[:5]) # Preferred item has a higher utility\n",
    "\n",
    "# predict_utility returns utility of samples for each cluster, returning shape (n_samples, n_clusters)"
   ]
  },
  {
   "cell_type": "code",
   "execution_count": 7,
   "metadata": {},
   "outputs": [
    {
     "name": "stdout",
     "output_type": "stream",
     "text": [
      "[[0 1]\n",
      " [0 0]\n",
      " [0 0]\n",
      " [0 0]\n",
      " [0 1]]\n"
     ]
    }
   ],
   "source": [
    "# Or we can directly use the predict_preference method:\n",
    "print(model.predict_preference(X, Y)[:5]) # For each cluster we see if X is preferred to Y (0) or the contrary (1)\n",
    "# predict_preference returns preference of samples for each cluster, returning shape (n_samples, n_clusters)\n",
    "# 0 means that the cluster prefers first argument (here X[i]), 1 means that the cluster prefers second argument (here Y[i])"
   ]
  },
  {
   "cell_type": "code",
   "execution_count": 7,
   "metadata": {},
   "outputs": [
    {
     "name": "stdout",
     "output_type": "stream",
     "text": [
      "Percentage of explained preferences for 5 first samples: 0.8\n"
     ]
    }
   ],
   "source": [
    "# We consider that our model explains our data, if for at least one cluster, X[i] >> Y[i]\n",
    "pairs_explained = np.sum(model.predict_preference(X, Y)[:5] == 0, axis=1) # For each sample check if each clusters prefers X[i] (then is True)\n",
    "pairs_explained = pairs_explained > 0 # If at least one cluster prefers X[i], then X[i] >> Y[i] is explained\n",
    "print(\"Percentage of explained preferences for 5 first samples:\", np.sum(pairs_explained) / 5) # Get % or explained pairs"
   ]
  },
  {
   "cell_type": "code",
   "execution_count": 8,
   "metadata": {},
   "outputs": [
    {
     "name": "stdout",
     "output_type": "stream",
     "text": [
      "Percentage of explained preferences for all samples: 0.5845\n",
      "Percentage of explained preferences for all samples: 0.5845\n"
     ]
    }
   ],
   "source": [
    "# Or we call directly the right metric:\n",
    "pairs_explained = metrics.PairsExplained()\n",
    "print(\"Percentage of explained preferences for all samples:\", pairs_explained.from_model(model, X, Y))\n",
    "# Or other possibility:\n",
    "print(\"Percentage of explained preferences for all samples:\", pairs_explained(model.predict_utility(X), model.predict_utility(Y)))"
   ]
  },
  {
   "cell_type": "code",
   "execution_count": 9,
   "metadata": {},
   "outputs": [
    {
     "name": "stdout",
     "output_type": "stream",
     "text": [
      "[0 0 0 1 0]\n"
     ]
    }
   ],
   "source": [
    "# Now, we can also see how our model clusters our data\n",
    "print(model.predict_cluster(X, Y)[:5]) # Returns for each sample which cluster is the most likely to have generated the preference.\n",
    "# The most likely cluster is the one with the highest utility difference U(X[i])-U(Y[i]) for the sample."
   ]
  },
  {
   "cell_type": "code",
   "execution_count": 10,
   "metadata": {},
   "outputs": [
    {
     "name": "stdout",
     "output_type": "stream",
     "text": [
      "[0 0 0 1 0]\n"
     ]
    }
   ],
   "source": [
    "# Ground truth are also provided:\n",
    "Z = data_loader.get_ground_truth_labels()\n",
    "# We can see how it compares to our model's predictions:\n",
    "print(Z[:5])"
   ]
  },
  {
   "cell_type": "code",
   "execution_count": 11,
   "metadata": {},
   "outputs": [
    {
     "name": "stdout",
     "output_type": "stream",
     "text": [
      "Cluster intersection for 5 first samples: 1.0\n",
      "Cluster intersection for all samples: 0.6577508754377188\n",
      "Cluster intersection for all samples: 0.6577508754377188\n"
     ]
    }
   ],
   "source": [
    "# We have a metric to calculate how well the model has regrouped the preferences pairs compared to ground truth:\n",
    "cluster_intersection = metrics.ClusterIntersection()\n",
    "\n",
    "print(\"Cluster intersection for 5 first samples:\", cluster_intersection(model.predict_cluster(X, Y)[:5], Z[:5]))\n",
    "\n",
    "# Then for all data:\n",
    "print(\"Cluster intersection for all samples:\", cluster_intersection(model.predict_cluster(X, Y), Z))\n",
    "print(\"Cluster intersection for all samples:\", cluster_intersection.from_model(model, X, Y, Z))"
   ]
  },
  {
   "cell_type": "code",
   "execution_count": 12,
   "metadata": {},
   "outputs": [
    {
     "data": {
      "image/png": "[encoded data removed]",
      "text/plain": [
       "<Figure size 432x288 with 1 Axes>"
      ]
     },
     "metadata": {
      "needs_background": "light"
     },
     "output_type": "display_data"
    }
   ],
   "source": [
    "# Here is a proposition of a useful plot to see how the model clusters the data:\n",
    "# We look at how each cluster evaluates U(x) - U(y) and color with ground truth clustering\n",
    "# Note that x >>_1 y means that x is preferred to y for cluster 1\n",
    "from matplotlib.patches import Rectangle\n",
    "from matplotlib.lines import Line2D\n",
    "\n",
    "plt.figure()\n",
    "plt.xlabel(\"U1(x) - U1(y)\")\n",
    "plt.ylabel(\"U2(x) - U2(y)\")\n",
    "\n",
    "plt.gca().add_patch(Rectangle((0,-1.),1., 2.,\n",
    "                    edgecolor='red',\n",
    "                    facecolor='none',\n",
    "                    lw=0, \n",
    "                    hatch='/'))\n",
    "plt.gca().add_patch(Rectangle((-1.,0), 2., 1.,\n",
    "                    edgecolor='green',\n",
    "                    facecolor='none',\n",
    "                    lw=0, \n",
    "                    hatch='\\\\'))\n",
    "plt.gca().add_patch(Rectangle((-1.,-1.),1., 1.,\n",
    "                    edgecolor='blue',\n",
    "                    facecolor='none',\n",
    "                    hatch='/',\n",
    "                    lw=0))\n",
    "plt.scatter(model.predict_utility(X)[:, 0]-model.predict_utility(Y)[:, 0], \n",
    "            model.predict_utility(X)[:, 1]-model.predict_utility(Y)[:, 1], c=Z)\n",
    "\n",
    "custom_lines = [Line2D([0], [0], color=\"red\", lw=4),\n",
    "                Line2D([0], [0], color=\"green\", lw=4),\n",
    "                Line2D([0], [0], color=\"b\", lw=4)]\n",
    "\n",
    "plt.legend(custom_lines, ['x >>_1 y', \"x >>_2 y \", 'No preference of x over y'])\n",
    "plt.show()"
   ]
  },
  {
   "cell_type": "markdown",
   "metadata": {},
   "source": [
    "Our random model cannot explain a large part of our preference data. Your first assigment will be to write a Mixed-Interger Programming algorithm that will be able to do so."
   ]
  },
  {
   "cell_type": "code",
   "execution_count": 13,
   "metadata": {},
   "outputs": [],
   "source": [
    "# This cell should work when you have completed the TwoClustersMIP model\n",
    "from models import TwoClustersMIP\n",
    "\n",
    "parameters = {\"n_pieces\": 5, \"n_clusters\": 2} # Can be completed\n",
    "model = TwoClustersMIP(**parameters)\n",
    "model.fit(X, Y)\n",
    "\n",
    "# Uncomment once your model is working\n",
    "# print(\"Percentage of explained preferences on train data:\", pairs_explained.from_model(model, X, Y)) # You should get 1.0 with the right MIP\n",
    "# print(\"Percentage of preferences well regrouped into clusters:\", cluster_intersection.from_model(model, X, Y, Z))"
   ]
  },
  {
   "cell_type": "code",
   "execution_count": null,
   "metadata": {},
   "outputs": [],
   "source": [
    "# As an example here are the results obtained with:\n",
    "\"\"\" # Uncomment the code to check your results\n",
    "plt.figure()\n",
    "plt.scatter(model.predict_utility(X)[:, 0]-model.predict_utility(Y)[:, 0], \n",
    "            model.predict_utility(X)[:, 1]-model.predict_utility(Y)[:, 1], c=Z)\n",
    "plt.xlabel(\"U1(x) - U1(y)\")\n",
    "plt.ylabel(\"U2(x) - U2(y)\")\n",
    "plt.show()\n",
    "\"\"\"\n",
    "# Here is how it should look like\n",
    "from IPython.display import Image\n",
    "Image(\"../images/MIP_results_example.png\")"
   ]
  },
  {
   "cell_type": "markdown",
   "metadata": {},
   "source": [
    "Your second assignement will be to find another model that will work well with larger data instances."
   ]
  },
  {
   "cell_type": "code",
   "execution_count": 17,
   "metadata": {},
   "outputs": [
    {
     "name": "stdout",
     "output_type": "stream",
     "text": [
      "[0.         0.05050505 0.1010101  0.15151515 0.2020202  0.25252525\n",
      " 0.3030303  0.35353535 0.4040404  0.45454545 0.50505051 0.55555556\n",
      " 0.60606061 0.65656566 0.70707071 0.75757576 0.80808081 0.85858586\n",
      " 0.90909091 0.95959596 1.01010101 1.06060606 1.11111111 1.16161616\n",
      " 1.21212121 1.26262626 1.31313131 1.36363636 1.41414141 1.46464646\n",
      " 1.51515152 1.56565657 1.61616162 1.66666667 1.71717172 1.76767677\n",
      " 1.81818182 1.86868687 1.91919192 1.96969697 2.02020202 2.07070707\n",
      " 2.12121212 2.17171717 2.22222222 2.27272727 2.32323232 2.37373737\n",
      " 2.42424242 2.47474747 2.52525253 2.57575758 2.62626263 2.67676768\n",
      " 2.72727273 2.77777778 2.82828283 2.87878788 2.92929293 2.97979798\n",
      " 2.96969697 2.91919192 2.86868687 2.81818182 2.76767677 2.71717172\n",
      " 2.66666667 2.61616162 2.56565657 2.51515152 2.46464646 2.41414141\n",
      " 2.36363636 2.31313131 2.26262626 2.21212121 2.16161616 2.11111111\n",
      " 2.06060606 2.01010101 1.91919192 1.81818182 1.71717172 1.61616162\n",
      " 1.51515152 1.41414141 1.31313131 1.21212121 1.11111111 1.01010101\n",
      " 0.90909091 0.80808081 0.70707071 0.60606061 0.50505051 0.4040404\n",
      " 0.3030303  0.2020202  0.1010101  0.        ]\n",
      "Gurobi Optimizer version 10.0.3 build v10.0.3rc0 (win64)\n",
      "\n",
      "CPU model: 11th Gen Intel(R) Core(TM) i5-1135G7 @ 2.40GHz, instruction set [SSE2|AVX|AVX2|AVX512]\n",
      "Thread count: 4 physical cores, 8 logical processors, using up to 8 threads\n",
      "\n",
      "Optimize a model with 0 rows, 2 columns and 0 nonzeros\n",
      "Model fingerprint: 0xf001e6ef\n",
      "Coefficient statistics:\n",
      "  Matrix range     [0e+00, 0e+00]\n",
      "  Objective range  [1e+00, 1e+00]\n",
      "  Bounds range     [5e+00, 5e+00]\n",
      "  RHS range        [0e+00, 0e+00]\n",
      "Presolve removed 0 rows and 2 columns\n",
      "Presolve time: 0.02s\n",
      "Presolve: All rows and columns removed\n",
      "Iteration    Objective       Primal Inf.    Dual Inf.      Time\n",
      "       0    0.0000000e+00   0.000000e+00   0.000000e+00      0s\n",
      "\n",
      "Solved in 0 iterations and 0.02 seconds (0.00 work units)\n",
      "Optimal objective  0.000000000e+00\n"
     ]
    },
    {
     "data": {
      "image/png": "[encoded data removed]",
      "text/plain": [
       "<Figure size 432x288 with 1 Axes>"
      ]
     },
     "metadata": {
      "needs_background": "light"
     },
     "output_type": "display_data"
    }
   ],
   "source": [
    "import matplotlib.pyplot as plt\n",
    "import numpy as np\n",
    "\n",
    "# Define the piecewise linear function\n",
    "breakpoints = [0, 1, 2, 3, 4, 5]\n",
    "values = [0, 1, 2, 3, 2, 0]\n",
    "\n",
    "# Create a range of x values for the plot\n",
    "x_values = np.linspace(0, 5, 100)\n",
    "y_values = np.interp(x_values, breakpoints, values)\n",
    "\n",
    "# Create a Gurobi optimization model (just for reference)\n",
    "model = Model()\n",
    "x = model.addVar(lb=0, ub=5, name=\"x\")\n",
    "y = model.addVar(lb=0, ub=5, name=\"y\")\n",
    "model.setObjective(y, GRB.MINIMIZE)\n",
    "model.optimize()\n",
    "\n",
    "# Get the optimal value of x from the model\n",
    "optimal_x = x.X\n",
    "\n",
    "# Plot the piecewise linear function\n",
    "plt.plot(x_values, y_values, label=\"Piecewise Linear Function\")\n",
    "plt.scatter([optimal_x], [np.interp(optimal_x, breakpoints, values)], color='red', label=\"Optimal Point\")\n",
    "plt.xlabel(\"x\")\n",
    "plt.ylabel(\"y\")\n",
    "plt.legend()\n",
    "plt.grid(True)\n",
    "plt.title(\"Piecewise Linear Function and Optimal Point\")\n",
    "plt.show()\n"
   ]
  },
  {
   "cell_type": "code",
   "execution_count": 12,
   "metadata": {},
   "outputs": [
    {
     "ename": "AttributeError",
     "evalue": "Index out of range for attribute 'LB'",
     "output_type": "error",
     "traceback": [
      "\u001b[1;31m---------------------------------------------------------------------------\u001b[0m",
      "\u001b[1;31mAttributeError\u001b[0m                            Traceback (most recent call last)",
      "Input \u001b[1;32mIn [12]\u001b[0m, in \u001b[0;36m<cell line: 25>\u001b[1;34m()\u001b[0m\n\u001b[0;32m     26\u001b[0m in_segment \u001b[38;5;241m=\u001b[39m \u001b[38;5;28;01mNone\u001b[39;00m\n\u001b[0;32m     27\u001b[0m \u001b[38;5;28;01mfor\u001b[39;00m i \u001b[38;5;129;01min\u001b[39;00m \u001b[38;5;28mrange\u001b[39m(num_breakpoints \u001b[38;5;241m-\u001b[39m \u001b[38;5;241m1\u001b[39m):\n\u001b[1;32m---> 28\u001b[0m     \u001b[38;5;28;01mif\u001b[39;00m x \u001b[38;5;241m>\u001b[39m\u001b[38;5;241m=\u001b[39m \u001b[43mbreakpoints\u001b[49m\u001b[43m[\u001b[49m\u001b[43mi\u001b[49m\u001b[43m]\u001b[49m\u001b[38;5;241;43m.\u001b[39;49m\u001b[43mLB\u001b[49m \u001b[38;5;129;01mand\u001b[39;00m x \u001b[38;5;241m<\u001b[39m breakpoints[i \u001b[38;5;241m+\u001b[39m \u001b[38;5;241m1\u001b[39m]\u001b[38;5;241m.\u001b[39mUB:\n\u001b[0;32m     29\u001b[0m         in_segment \u001b[38;5;241m=\u001b[39m i\n\u001b[0;32m     30\u001b[0m         \u001b[38;5;28;01mbreak\u001b[39;00m\n",
      "File \u001b[1;32msrc\\gurobipy\\var.pxi:125\u001b[0m, in \u001b[0;36mgurobipy.Var.__getattr__\u001b[1;34m()\u001b[0m\n",
      "File \u001b[1;32msrc\\gurobipy\\var.pxi:153\u001b[0m, in \u001b[0;36mgurobipy.Var.getAttr\u001b[1;34m()\u001b[0m\n",
      "File \u001b[1;32msrc\\gurobipy\\attrutil.pxi:100\u001b[0m, in \u001b[0;36mgurobipy.__getattr\u001b[1;34m()\u001b[0m\n",
      "\u001b[1;31mAttributeError\u001b[0m: Index out of range for attribute 'LB'"
     ]
    }
   ],
   "source": [
    "from gurobipy import *\n",
    "\n",
    "# Given points\n",
    "given_points = [(1, 2), (2, 4), (3, 1), (4, 3), (5, 5)]\n",
    "\n",
    "# Create a Gurobi optimization model\n",
    "model = Model()\n",
    "\n",
    "# Number of breakpoints (3 pieces means 4 breakpoints)\n",
    "num_breakpoints = 4\n",
    "\n",
    "# Create variables for breakpoints and values\n",
    "breakpoints = []\n",
    "values = []\n",
    "\n",
    "for i in range(num_breakpoints):\n",
    "    breakpoints.append(model.addVar(lb=1, ub=5, name=f\"breakpoint_{i}\"))\n",
    "\n",
    "for i in range(num_breakpoints - 1):\n",
    "    values.append(model.addVar(lb=0, ub=5, name=f\"value_{i}\"))\n",
    "\n",
    "# Define the objective function (minimize sum of squared errors)\n",
    "error_terms = []\n",
    "\n",
    "for x, y in given_points:\n",
    "    in_segment = None\n",
    "    for i in range(num_breakpoints - 1):\n",
    "        if x >= breakpoints[i].LB and x < breakpoints[i + 1].UB:\n",
    "            in_segment = i\n",
    "            break\n",
    "    if in_segment is not None:\n",
    "        predicted_y = values[in_segment].X + (x - breakpoints[in_segment].X) * (\n",
    "                    values[in_segment + 1].X - values[in_segment].X) / (\n",
    "                                  breakpoints[in_segment + 1].X - breakpoints[in_segment].X)\n",
    "        error_terms.append((y - predicted_y) ** 2)\n",
    "\n",
    "model.setObjective(quicksum(error_terms), GRB.MINIMIZE)\n",
    "\n",
    "# Add constraints to ensure breakpoints are in ascending order\n",
    "for i in range(num_breakpoints - 1):\n",
    "    model.addConstr(breakpoints[i] <= breakpoints[i + 1], f\"order_constraint_{i}\")\n",
    "\n",
    "# Optimize the model\n",
    "model.optimize()\n",
    "\n",
    "# Print the optimal solution\n",
    "if model.status == GRB.OPTIMAL:\n",
    "    print(\"Optimal Solution:\")\n",
    "    for i in range(num_breakpoints):\n",
    "        print(f\"breakpoint_{i} = {breakpoints[i].X}\")\n",
    "    for i in range(num_breakpoints - 1):\n",
    "        print(f\"value_{i} = {values[i].X}\")\n",
    "else:\n",
    "    print(\"No solution found.\")\n"
   ]
  },
  {
   "cell_type": "code",
   "execution_count": 19,
   "metadata": {},
   "outputs": [
    {
     "name": "stdout",
     "output_type": "stream",
     "text": [
      "Gurobi Optimizer version 10.0.3 build v10.0.3rc0 (win64)\n",
      "\n",
      "CPU model: 11th Gen Intel(R) Core(TM) i5-1135G7 @ 2.40GHz, instruction set [SSE2|AVX|AVX2|AVX512]\n",
      "Thread count: 4 physical cores, 8 logical processors, using up to 8 threads\n",
      "\n",
      "Optimize a model with 0 rows, 3 columns and 0 nonzeros\n",
      "Model fingerprint: 0x12ca88f7\n",
      "Model has 5 quadratic objective terms\n",
      "Coefficient statistics:\n",
      "  Matrix range     [0e+00, 0e+00]\n",
      "  Objective range  [4e+00, 2e+01]\n"
     ]
    },
    {
     "name": "stdout",
     "output_type": "stream",
     "text": [
      "  QObjective range [1e+00, 5e+00]\n",
      "  Bounds range     [0e+00, 0e+00]\n",
      "  RHS range        [0e+00, 0e+00]\n",
      "Presolve time: 0.03s\n",
      "Presolved: 0 rows, 3 columns, 0 nonzeros\n",
      "Presolved model has 5 quadratic objective terms\n",
      "Ordering time: 0.00s\n",
      "\n",
      "Barrier statistics:\n",
      " Free vars  : 5\n",
      " AA' NZ     : 1.000e+00\n",
      " Factor NZ  : 3.000e+00\n",
      " Factor Ops : 5.000e+00 (less than 1 second per iteration)\n",
      " Threads    : 1\n",
      "\n",
      "                  Objective                Residual\n",
      "Iter       Primal          Dual         Primal    Dual     Compl     Time\n",
      "   0   5.50000000e+01  5.50000000e+01  0.00e+00 5.25e+00  0.00e+00     0s\n",
      "   1   7.36842108e-01  7.36956859e-01  4.34e-10 7.21e-06  0.00e+00     0s\n",
      "   2   7.36842105e-01  7.36842105e-01  7.95e-14 7.23e-12  0.00e+00     0s\n",
      "\n",
      "Barrier solved model in 2 iterations and 0.05 seconds (0.00 work units)\n",
      "Optimal objective 7.36842105e-01\n",
      "\n",
      "Optimal y-values at breakpoints: [1.157894736841037, 2.210526315784866, 4.421052631574788]\n"
     ]
    }
   ],
   "source": [
    "from gurobipy import Model, GRB, quicksum\n",
    "import numpy as np\n",
    "\n",
    "# Define the piecewise linear function\n",
    "breakpoints = [1, 2, 3]  # breakpoints\n",
    "\n",
    "# Dataset\n",
    "x_data = np.array([0.5, 1.5, 2.5, 3.5, 4.5])  # x-values\n",
    "y_data = np.array([1, 2, 3, 4, 5])  # y-values\n",
    "\n",
    "# Create a Gurobi optimization model\n",
    "model = Model()\n",
    "\n",
    "# Add variables for the y-values at the breakpoints\n",
    "y = model.addVars(breakpoints, lb=-GRB.INFINITY, name=\"y\")\n",
    "\n",
    "# Define the piecewise linear function\n",
    "def piecewise_linear(x):\n",
    "    if x < breakpoints[0]:\n",
    "        return y[breakpoints[0]]\n",
    "    elif x < breakpoints[1]:\n",
    "        return y[breakpoints[0]] + (x - breakpoints[0]) * (y[breakpoints[1]] - y[breakpoints[0]]) / (breakpoints[1] - breakpoints[0])\n",
    "    elif x < breakpoints[2]:\n",
    "        return y[breakpoints[1]] + (x - breakpoints[1]) * (y[breakpoints[2]] - y[breakpoints[1]]) / (breakpoints[2] - breakpoints[1])\n",
    "    else:\n",
    "        return y[breakpoints[2]]\n",
    "\n",
    "# Set the objective to minimize the sum of squared errors\n",
    "model.setObjective(quicksum((y_data[i] - piecewise_linear(x_data[i]))**2 for i in range(len(x_data))), GRB.MINIMIZE)\n",
    "\n",
    "# Optimize the model\n",
    "model.optimize()\n",
    "\n",
    "# Get the optimal y-values at the breakpoints\n",
    "optimal_values = [y[i].X for i in breakpoints]\n",
    "\n",
    "print(\"Optimal y-values at breakpoints:\", optimal_values)"
   ]
  },
  {
   "cell_type": "code",
   "execution_count": 21,
   "metadata": {},
   "outputs": [
    {
     "data": {
      "image/png": "[encoded data removed]",
      "text/plain": [
       "<Figure size 432x288 with 1 Axes>"
      ]
     },
     "metadata": {
      "needs_background": "light"
     },
     "output_type": "display_data"
    }
   ],
   "source": [
    "import matplotlib.pyplot as plt\n",
    "\n",
    "# Plot the dataset\n",
    "plt.scatter(x_data, y_data, color='blue', label='Data points')\n",
    "\n",
    "# Generate x-values for the piecewise function\n",
    "x_values = np.linspace(min(x_data), max(x_data), 1000)\n",
    "\n",
    "# Define a function to get the y-value for a given x-value\n",
    "def get_y_value(x):\n",
    "    if x <= breakpoints[0]:\n",
    "        return y[breakpoints[0]].X\n",
    "    elif x <= breakpoints[1]:\n",
    "        return y[breakpoints[0]].X + (x - breakpoints[0]) * (y[breakpoints[1]].X - y[breakpoints[0]].X) / (breakpoints[1] - breakpoints[0])\n",
    "    elif x <= breakpoints[2]:\n",
    "        return y[breakpoints[1]].X + (x - breakpoints[1]) * (y[breakpoints[2]].X - y[breakpoints[1]].X) / (breakpoints[2] - breakpoints[1])\n",
    "    else:\n",
    "        return y[breakpoints[2]].X\n",
    "\n",
    "# Generate y-values for the piecewise function\n",
    "y_values = [get_y_value(x) for x in x_values]\n",
    "\n",
    "# Plot the piecewise function\n",
    "plt.plot(x_values, y_values, color='red', label='Piecewise linear function')\n",
    "\n",
    "plt.legend()\n",
    "plt.show()"
   ]
  },
  {
   "cell_type": "code",
   "execution_count": 22,
   "metadata": {},
   "outputs": [
    {
     "data": {
      "image/png": "[encoded data removed]",
      "text/plain": [
       "<Figure size 432x288 with 1 Axes>"
      ]
     },
     "metadata": {
      "needs_background": "light"
     },
     "output_type": "display_data"
    }
   ],
   "source": [
    "# Define the conditions\n",
    "conditions = [x_values <= breakpoints[0], \n",
    "              (x_values > breakpoints[0]) & (x_values <= breakpoints[1]), \n",
    "              (x_values > breakpoints[1]) & (x_values <= breakpoints[2]), \n",
    "              x_values > breakpoints[2]]\n",
    "\n",
    "# Define the functions\n",
    "functions = [lambda x: y[breakpoints[0]].X, \n",
    "             lambda x: y[breakpoints[0]].X + (x - breakpoints[0]) * (y[breakpoints[1]].X - y[breakpoints[0]].X) / (breakpoints[1] - breakpoints[0]), \n",
    "             lambda x: y[breakpoints[1]].X + (x - breakpoints[1]) * (y[breakpoints[2]].X - y[breakpoints[1]].X) / (breakpoints[2] - breakpoints[1]), \n",
    "             lambda x: y[breakpoints[2]].X]\n",
    "\n",
    "# Generate y-values for the piecewise function\n",
    "y_values = np.piecewise(x_values, conditions, functions)\n",
    "\n",
    "# Plot the piecewise function\n",
    "plt.plot(x_values, y_values, color='red', label='Piecewise linear function')\n",
    "\n",
    "plt.legend()\n",
    "plt.show()"
   ]
  },
  {
   "cell_type": "code",
   "execution_count": 23,
   "metadata": {},
   "outputs": [
    {
     "ename": "TypeError",
     "evalue": "unsupported operand type(s) for *: 'Var' and 'TempConstr'",
     "output_type": "error",
     "traceback": [
      "\u001b[1;31m---------------------------------------------------------------------------\u001b[0m",
      "\u001b[1;31mTypeError\u001b[0m                                 Traceback (most recent call last)",
      "Input \u001b[1;32mIn [23]\u001b[0m, in \u001b[0;36m<cell line: 36>\u001b[1;34m()\u001b[0m\n\u001b[0;32m     34\u001b[0m \u001b[38;5;66;03m# Example usage\u001b[39;00m\n\u001b[0;32m     35\u001b[0m points \u001b[38;5;241m=\u001b[39m [(\u001b[38;5;241m1\u001b[39m, \u001b[38;5;241m2\u001b[39m), (\u001b[38;5;241m2\u001b[39m, \u001b[38;5;241m3\u001b[39m), (\u001b[38;5;241m3\u001b[39m, \u001b[38;5;241m4\u001b[39m), (\u001b[38;5;241m4\u001b[39m, \u001b[38;5;241m5\u001b[39m), (\u001b[38;5;241m5\u001b[39m, \u001b[38;5;241m6\u001b[39m)]\n\u001b[1;32m---> 36\u001b[0m breakpoints \u001b[38;5;241m=\u001b[39m \u001b[43mfind_breakpoints\u001b[49m\u001b[43m(\u001b[49m\u001b[43mpoints\u001b[49m\u001b[43m)\u001b[49m\n\u001b[0;32m     37\u001b[0m \u001b[38;5;28mprint\u001b[39m(\u001b[38;5;124m\"\u001b[39m\u001b[38;5;124mOptimal Breakpoints:\u001b[39m\u001b[38;5;124m\"\u001b[39m, breakpoints)\n",
      "Input \u001b[1;32mIn [23]\u001b[0m, in \u001b[0;36mfind_breakpoints\u001b[1;34m(points, num_breakpoints)\u001b[0m\n\u001b[0;32m     16\u001b[0m     piecewise_expr \u001b[38;5;241m=\u001b[39m \u001b[38;5;241m0\u001b[39m\n\u001b[0;32m     17\u001b[0m     \u001b[38;5;28;01mfor\u001b[39;00m i \u001b[38;5;129;01min\u001b[39;00m \u001b[38;5;28mrange\u001b[39m(num_breakpoints):\n\u001b[1;32m---> 18\u001b[0m         piecewise_expr \u001b[38;5;241m+\u001b[39m\u001b[38;5;241m=\u001b[39m \u001b[43mbreakpoints\u001b[49m\u001b[43m[\u001b[49m\u001b[43mi\u001b[49m\u001b[43m]\u001b[49m\u001b[43m \u001b[49m\u001b[38;5;241;43m*\u001b[39;49m\u001b[43m \u001b[49m\u001b[43m(\u001b[49m\u001b[43mx\u001b[49m\u001b[43m \u001b[49m\u001b[38;5;241;43m>\u001b[39;49m\u001b[38;5;241;43m=\u001b[39;49m\u001b[43m \u001b[49m\u001b[43mbreakpoints\u001b[49m\u001b[43m[\u001b[49m\u001b[43mi\u001b[49m\u001b[43m]\u001b[49m\u001b[43m)\u001b[49m\n\u001b[0;32m     19\u001b[0m     objective \u001b[38;5;241m+\u001b[39m\u001b[38;5;241m=\u001b[39m (y \u001b[38;5;241m-\u001b[39m piecewise_expr) \u001b[38;5;241m*\u001b[39m\u001b[38;5;241m*\u001b[39m \u001b[38;5;241m2\u001b[39m\n\u001b[0;32m     20\u001b[0m model\u001b[38;5;241m.\u001b[39msetObjective(objective, GRB\u001b[38;5;241m.\u001b[39mMINIMIZE)\n",
      "\u001b[1;31mTypeError\u001b[0m: unsupported operand type(s) for *: 'Var' and 'TempConstr'"
     ]
    }
   ],
   "source": [
    "import gurobipy as gp\n",
    "from gurobipy import GRB\n",
    "\n",
    "def find_breakpoints(points, num_breakpoints=3):\n",
    "    # Create a Gurobi model\n",
    "    model = gp.Model(\"PiecewiseLinearFit\")\n",
    "\n",
    "    # Define the decision variables (breakpoints)\n",
    "    breakpoints = []\n",
    "    for i in range(num_breakpoints):\n",
    "        breakpoints.append(model.addVar(vtype=GRB.CONTINUOUS, name=f\"breakpoint_{i}\"))\n",
    "\n",
    "    # Set up the objective function to minimize the sum of squared errors\n",
    "    objective = 0\n",
    "    for x, y in points:\n",
    "        piecewise_expr = 0\n",
    "        for i in range(num_breakpoints):\n",
    "            piecewise_expr += breakpoints[i] * (x >= breakpoints[i])\n",
    "        objective += (y - piecewise_expr) ** 2\n",
    "    model.setObjective(objective, GRB.MINIMIZE)\n",
    "\n",
    "    # Add constraints to ensure breakpoints are in ascending order\n",
    "    for i in range(num_breakpoints - 1):\n",
    "        model.addConstr(breakpoints[i] <= breakpoints[i + 1])\n",
    "\n",
    "    # Optimize the model\n",
    "    model.optimize()\n",
    "\n",
    "    # Extract the values of the breakpoints\n",
    "    breakpoint_values = [breakpoints[i].X for i in range(num_breakpoints)]\n",
    "\n",
    "    return breakpoint_values\n",
    "\n",
    "# Example usage\n",
    "points = [(1, 2), (2, 3), (3, 4), (4, 5), (5, 6)]\n",
    "breakpoints = find_breakpoints(points)\n",
    "print(\"Optimal Breakpoints:\", breakpoints)\n"
   ]
  },
  {
   "cell_type": "code",
   "execution_count": 24,
   "metadata": {},
   "outputs": [
    {
     "ename": "TypeError",
     "evalue": "unsupported operand type(s) for ** or pow(): 'gurobipy.QuadExpr' and 'int'",
     "output_type": "error",
     "traceback": [
      "\u001b[1;31m---------------------------------------------------------------------------\u001b[0m",
      "\u001b[1;31mTypeError\u001b[0m                                 Traceback (most recent call last)",
      "Input \u001b[1;32mIn [24]\u001b[0m, in \u001b[0;36m<cell line: 39>\u001b[1;34m()\u001b[0m\n\u001b[0;32m     37\u001b[0m \u001b[38;5;66;03m# Example usage\u001b[39;00m\n\u001b[0;32m     38\u001b[0m points \u001b[38;5;241m=\u001b[39m [(\u001b[38;5;241m1\u001b[39m, \u001b[38;5;241m2\u001b[39m), (\u001b[38;5;241m2\u001b[39m, \u001b[38;5;241m3\u001b[39m), (\u001b[38;5;241m3\u001b[39m, \u001b[38;5;241m4\u001b[39m), (\u001b[38;5;241m4\u001b[39m, \u001b[38;5;241m5\u001b[39m), (\u001b[38;5;241m5\u001b[39m, \u001b[38;5;241m6\u001b[39m)]\n\u001b[1;32m---> 39\u001b[0m breakpoints \u001b[38;5;241m=\u001b[39m \u001b[43mfind_breakpoints\u001b[49m\u001b[43m(\u001b[49m\u001b[43mpoints\u001b[49m\u001b[43m)\u001b[49m\n\u001b[0;32m     40\u001b[0m \u001b[38;5;28mprint\u001b[39m(\u001b[38;5;124m\"\u001b[39m\u001b[38;5;124mOptimal Breakpoints:\u001b[39m\u001b[38;5;124m\"\u001b[39m, breakpoints)\n",
      "Input \u001b[1;32mIn [24]\u001b[0m, in \u001b[0;36mfind_breakpoints\u001b[1;34m(points, num_breakpoints)\u001b[0m\n\u001b[0;32m     20\u001b[0m         piecewise_expr \u001b[38;5;241m+\u001b[39m\u001b[38;5;241m=\u001b[39m breakpoints[i] \u001b[38;5;241m*\u001b[39m binary_vars[i][j]\n\u001b[0;32m     21\u001b[0m         model\u001b[38;5;241m.\u001b[39maddConstr(binary_vars[i][j] \u001b[38;5;241m>\u001b[39m\u001b[38;5;241m=\u001b[39m (x \u001b[38;5;241m-\u001b[39m breakpoints[i]) \u001b[38;5;241m/\u001b[39m (\u001b[38;5;28mmax\u001b[39m(points)[\u001b[38;5;241m0\u001b[39m] \u001b[38;5;241m-\u001b[39m \u001b[38;5;28mmin\u001b[39m(points)[\u001b[38;5;241m0\u001b[39m]))\n\u001b[1;32m---> 22\u001b[0m     objective \u001b[38;5;241m+\u001b[39m\u001b[38;5;241m=\u001b[39m \u001b[43m(\u001b[49m\u001b[43my\u001b[49m\u001b[43m \u001b[49m\u001b[38;5;241;43m-\u001b[39;49m\u001b[43m \u001b[49m\u001b[43mpiecewise_expr\u001b[49m\u001b[43m)\u001b[49m\u001b[43m \u001b[49m\u001b[38;5;241;43m*\u001b[39;49m\u001b[38;5;241;43m*\u001b[39;49m\u001b[43m \u001b[49m\u001b[38;5;241;43m2\u001b[39;49m\n\u001b[0;32m     23\u001b[0m model\u001b[38;5;241m.\u001b[39msetObjective(objective, GRB\u001b[38;5;241m.\u001b[39mMINIMIZE)\n\u001b[0;32m     25\u001b[0m \u001b[38;5;66;03m# Add constraints to ensure breakpoints are in ascending order\u001b[39;00m\n",
      "\u001b[1;31mTypeError\u001b[0m: unsupported operand type(s) for ** or pow(): 'gurobipy.QuadExpr' and 'int'"
     ]
    }
   ],
   "source": [
    "def find_breakpoints(points, num_breakpoints=3):\n",
    "    # Create a Gurobi model\n",
    "    model = gp.Model(\"PiecewiseLinearFit\")\n",
    "\n",
    "    # Define the decision variables (breakpoints)\n",
    "    breakpoints = []\n",
    "    for i in range(num_breakpoints):\n",
    "        breakpoints.append(model.addVar(vtype=GRB.CONTINUOUS, name=f\"breakpoint_{i}\"))\n",
    "\n",
    "    # Define the binary variables\n",
    "    binary_vars = []\n",
    "    for i in range(num_breakpoints):\n",
    "        binary_vars.append(model.addVars(len(points), vtype=GRB.BINARY, name=f\"binary_{i}\"))\n",
    "\n",
    "    # Set up the objective function to minimize the sum of squared errors\n",
    "    objective = 0\n",
    "    for j, (x, y) in enumerate(points):\n",
    "        piecewise_expr = 0\n",
    "        for i in range(num_breakpoints):\n",
    "            piecewise_expr += breakpoints[i] * binary_vars[i][j]\n",
    "            model.addConstr(binary_vars[i][j] >= (x - breakpoints[i]) / (max(points)[0] - min(points)[0]))\n",
    "        objective += (y - piecewise_expr) ** 2\n",
    "    model.setObjective(objective, GRB.MINIMIZE)\n",
    "\n",
    "    # Add constraints to ensure breakpoints are in ascending order\n",
    "    for i in range(num_breakpoints - 1):\n",
    "        model.addConstr(breakpoints[i] <= breakpoints[i + 1])\n",
    "\n",
    "    # Optimize the model\n",
    "    model.optimize()\n",
    "\n",
    "    # Extract the values of the breakpoints\n",
    "    breakpoint_values = [breakpoints[i].X for i in range(num_breakpoints)]\n",
    "\n",
    "    return breakpoint_values\n",
    "\n",
    "# Example usage\n",
    "points = [(1, 2), (2, 3), (3, 4), (4, 5), (5, 6)]\n",
    "breakpoints = find_breakpoints(points)\n",
    "print(\"Optimal Breakpoints:\", breakpoints)"
   ]
  }
 ],
 "metadata": {
  "kernelspec": {
   "display_name": "start_env",
   "language": "python",
   "name": "python3"
  },
  "language_info": {
   "codemirror_mode": {
    "name": "ipython",
    "version": 3
   },
   "file_extension": ".py",
   "mimetype": "text/x-python",
   "name": "python",
   "nbconvert_exporter": "python",
   "pygments_lexer": "ipython3",
   "version": "3.10.13"
  }
 },
 "nbformat": 4,
 "nbformat_minor": 2
}
