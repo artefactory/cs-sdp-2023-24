{
 "cells": [
  {
   "cell_type": "code",
   "execution_count": 1,
   "metadata": {},
   "outputs": [],
   "source": [
    "import os\n",
    "import sys\n",
    "\n",
    "sys.path.append(\"../python\")\n",
    "\n",
    "import matplotlib.pyplot as plt\n",
    "import numpy as np"
   ]
  },
  {
   "cell_type": "code",
   "execution_count": 2,
   "metadata": {},
   "outputs": [],
   "source": [
    "from gurobipy import Model, GRB"
   ]
  },
  {
   "cell_type": "code",
   "execution_count": 3,
   "metadata": {},
   "outputs": [],
   "source": [
    "from data import Dataloader\n",
    "from models import RandomExampleModel, TwoClustersMIP\n",
    "import metrics"
   ]
  },
  {
   "cell_type": "code",
   "execution_count": 4,
   "metadata": {},
   "outputs": [
    {
     "data": {
      "text/plain": [
       "(2000, 4)"
      ]
     },
     "execution_count": 4,
     "metadata": {},
     "output_type": "execute_result"
    }
   ],
   "source": [
    "# Loading the data\n",
    "data_loader = Dataloader(\"../data/dataset_4\") # Specify path to the dataset you want to load\n",
    "X, Y = data_loader.load()\n",
    "X.shape"
   ]
  },
  {
   "cell_type": "code",
   "execution_count": 7,
   "metadata": {},
   "outputs": [
    {
     "name": "stdout",
     "output_type": "stream",
     "text": [
      "Set parameter TimeLimit to value 300\n",
      "Gurobi Optimizer version 10.0.3 build v10.0.3rc0 (win64)\n",
      "\n",
      "CPU model: 11th Gen Intel(R) Core(TM) i5-1135G7 @ 2.40GHz, instruction set [SSE2|AVX|AVX2|AVX512]\n",
      "Thread count: 4 physical cores, 8 logical processors, using up to 8 threads\n",
      "\n",
      "Optimize a model with 1244 rows, 1648 columns and 12856 nonzeros\n",
      "Model fingerprint: 0xe404b8f2\n",
      "Variable types: 848 continuous, 800 integer (800 binary)\n",
      "Coefficient statistics:\n",
      "  Matrix range     [6e-06, 1e+03]\n",
      "  Objective range  [1e+00, 1e+00]\n",
      "  Bounds range     [1e+00, 1e+00]\n",
      "  RHS range        [1e+00, 1e+03]\n",
      "Found heuristic solution: objective 41.8447397\n",
      "Presolve removed 410 rows and 408 columns\n",
      "Presolve time: 0.02s\n",
      "Presolved: 834 rows, 1240 columns, 10814 nonzeros\n",
      "Variable types: 840 continuous, 400 integer (400 binary)\n",
      "\n",
      "Root relaxation: objective 0.000000e+00, 365 iterations, 0.00 seconds (0.00 work units)\n",
      "\n",
      "    Nodes    |    Current Node    |     Objective Bounds      |     Work\n",
      " Expl Unexpl |  Obj  Depth IntInf | Incumbent    BestBd   Gap | It/Node Time\n",
      "\n",
      "     0     0    0.00000    0   69   41.84474    0.00000   100%     -    0s\n",
      "H    0     0                       9.1993606    0.00000   100%     -    0s\n",
      "H    0     0                       3.4808768    0.00000   100%     -    0s\n",
      "     0     0    0.00000    0   67    3.48088    0.00000   100%     -    0s\n",
      "H    0     0                       2.5714012    0.00000   100%     -    0s\n",
      "     0     0    0.00000    0   71    2.57140    0.00000   100%     -    0s\n",
      "     0     0    0.00000    0   57    2.57140    0.00000   100%     -    0s\n",
      "     0     0    0.00000    0   63    2.57140    0.00000   100%     -    0s\n",
      "     0     0    0.00000    0   65    2.57140    0.00000   100%     -    0s\n",
      "     0     0    0.00000    0   64    2.57140    0.00000   100%     -    0s\n",
      "     0     0    0.00000    0   64    2.57140    0.00000   100%     -    0s\n",
      "H    0     2                       2.5325428    0.00000   100%     -    0s\n",
      "     0     2    0.00000    0   64    2.53254    0.00000   100%     -    0s\n",
      "H   27    32                       2.5105024    0.00000   100%  65.7    0s\n",
      "H   29    32                       2.4494856    0.00000   100%  65.1    0s\n",
      "H   82   105                       2.4364200    0.00000   100%  61.4    1s\n",
      "H  448   696                       2.3824089    0.00000   100%  48.8    1s\n",
      "H  516   696                       1.3421052    0.00000   100%  44.5    1s\n",
      "H  523   695                       1.2515079    0.00000   100%  44.1    1s\n",
      "H  523   694                       1.1997239    0.00000   100%  44.1    1s\n",
      "H  526   694                       1.1674825    0.00000   100%  44.0    1s\n",
      "*  574   689             104       0.7845763    0.00000   100%  41.5    1s\n",
      "H  709   584                       0.7711454    0.00000   100%  37.9    1s\n",
      "H  717   572                       0.7607315    0.00000   100%  38.8    1s\n",
      "H  725   461                       0.6139933    0.00000   100%  39.6    1s\n",
      "H  762   521                       0.6102094    0.00000   100%  42.6    1s\n",
      "H  815   627                       0.5809834    0.00000   100%  46.5    1s\n",
      "H  888   589                       0.4990698    0.00000   100%  46.1    1s\n",
      "H 1034   464                       0.3947108    0.00000   100%  48.2    1s\n",
      "  2466  1159    0.13905   33  408    0.39471    0.00000   100%  47.3    5s\n",
      "H 2577  1075                       0.3550903    0.00000   100%  49.4    5s\n",
      "H 3110   988                       0.2039458    0.00000   100%  51.5    5s\n",
      "H 3275   749                       0.0993390    0.00000   100%  52.5    6s\n",
      "* 4029   944             134       0.0963587    0.00000   100%  54.5    6s\n",
      "H 5112  1219                       0.0934124    0.00000   100%  60.8    8s\n",
      "  5640  1367    0.02593   22  498    0.09341    0.00000   100%  64.6   10s\n",
      "H 5642  1365                       0.0930082    0.00000   100%  64.6   10s\n",
      "H 5646  1362                       0.0919491    0.00000   100%  64.7   10s\n",
      "H 5647  1343                       0.0901057    0.00000   100%  64.7   10s\n",
      " 10778  3151     cutoff   31         0.09011    0.00000   100%  78.1   15s\n",
      " 14485  3920    0.03000   26   25    0.09011    0.00000   100%  84.2   20s\n",
      " 16019  4312    0.05433   39  146    0.09011    0.00000   100%  84.3   25s\n",
      " 17300  4390    0.07331   45   91    0.09011    0.00000   100%  83.6   30s\n",
      " 19621  4351     cutoff   37         0.09011    0.00000   100%  83.4   36s\n",
      " 25294  4716    0.06145   52   33    0.09011    0.00000   100%  83.8   40s\n",
      " 30102  6462    0.06511   49   69    0.09011    0.00000   100%  84.1   47s\n",
      " 35498  6796     cutoff   47         0.09011    0.00000   100%  84.6   50s\n",
      " 41025  8346    0.03308   44   97    0.09011    0.00000   100%  85.6   55s\n",
      " 43930  9034    0.04744   46   73    0.09011    0.00000   100%  85.6   64s\n",
      " 47432  9506    0.00000   36   78    0.09011    0.00000   100%  86.1   65s\n",
      " 54809 11020 infeasible   50         0.09011    0.00000   100%  86.4   70s\n",
      " 62463 12536    0.07944   42  129    0.09011    0.00000   100%  87.1   75s\n",
      " 65932 13057    0.01697   44   96    0.09011    0.00000   100%  87.6   82s\n",
      " 69847 13950    0.05672   44  104    0.09011    0.00000   100%  87.8   85s\n",
      " 76694 15216    0.00000   45   86    0.09011    0.00000   100%  88.0   90s\n",
      " 82641 16217     cutoff   45         0.09011    0.00000   100%  88.2   95s\n",
      " 88620 17025     cutoff   46         0.09011    0.00000   100%  88.5  105s\n",
      " 91598 17725    0.03512   43  121    0.09011    0.00000   100%  88.6  110s\n",
      " 94799 18194    0.04050   49  103    0.09011    0.00000   100%  88.8  115s\n",
      " 99584 19183    0.02489   36   69    0.09011    0.00000   100%  89.1  120s\n",
      " 105110 20255     cutoff   47         0.09011    0.00000   100%  89.2  125s\n",
      " 108088 20680    0.00769   45  142    0.09011    0.00000   100%  89.2  130s\n",
      " 114284 21858     cutoff   44         0.09011    0.00000   100%  89.4  135s\n",
      " 119165 22861    0.01894   41   75    0.09011    0.00000   100%  89.7  140s\n",
      " 124363 23640    0.04572   41  126    0.09011    0.00000   100%  89.7  146s\n",
      " 125602 23830     cutoff   46         0.09011    0.00000   100%  89.7  151s\n",
      " 129398 24636 infeasible   44         0.09011    0.00000   100%  89.9  155s\n",
      " 135527 25892     cutoff   48         0.09011    0.00000   100%  90.1  160s\n",
      " 140944 26810     cutoff   56         0.09011    0.00000   100%  90.3  165s\n",
      " 146947 27797    0.06595   46  150    0.09011    0.00000   100%  90.5  173s\n",
      " 148169 28211    0.00000   46  118    0.09011    0.00000   100%  90.6  175s\n",
      " 151976 28636    0.00967   43  101    0.09011    0.00000   100%  90.8  181s\n",
      " 155663 29533    0.07325   48  161    0.09011    0.00000   100%  91.0  185s\n",
      " 160511 30255     cutoff   55         0.09011    0.00000   100%  91.2  190s\n",
      " 165285 30825    0.07346   44  139    0.09011    0.00000   100%  91.5  196s\n",
      " 165296 31965     cutoff   45         0.09011    0.00000   100%  91.5  204s\n",
      " 171302 31965    0.04540   50  136    0.09011    0.00000   100%  91.7  205s\n",
      " 177015 32789    0.04290   48   92    0.09011    0.00000   100%  91.9  210s\n",
      " 182106 33461    0.06171   43  116    0.09011    0.00000   100%  92.1  216s\n",
      " 183520 33649    0.00000   34  182    0.09011    0.00000   100%  92.1  221s\n",
      " 186212 34347     cutoff   49         0.09011    0.00000   100%  92.2  225s\n",
      " 192428 35465     cutoff   45         0.09011    0.00000   100%  92.4  230s\n",
      " 196097 36180    0.04982   45   96    0.09011    0.00000   100%  92.5  235s\n",
      " 201280 36825    0.00000   36  109    0.09011    0.00000   100%  92.6  242s\n",
      " 203476 37277     cutoff   48         0.09011    0.00000   100%  92.6  245s\n",
      " 207198 37813    0.04669   40  136    0.09011    0.00000   100%  92.7  250s\n",
      " 213329 38611    0.06060   48  129    0.09011    0.00000   100%  92.9  255s\n",
      " 219019 39366    0.02947   42  133    0.09011    0.00000   100%  93.0  260s\n",
      " 223653 39781    0.03888   41  147    0.09011    0.00000   100%  93.1  269s\n",
      " 223662 39863     cutoff   42         0.09011    0.00000   100%  93.1  270s\n",
      " 230367 40588    0.07390   42  156    0.09011    0.00017   100%  93.0  276s\n",
      " 235190 41304    0.05547   48  105    0.09011    0.00094  99.0%  92.6  280s\n",
      " 243844 42054     cutoff   49         0.09011    0.00200  97.8%  91.9  285s\n",
      " 252933 42974    0.00787   43   81    0.09011    0.00304  96.6%  91.1  290s\n",
      " 260855 43869    0.04735   47  111    0.09011    0.00399  95.6%  90.6  295s\n",
      " 269236 44775     cutoff   57         0.09011    0.00478  94.7%  90.0  300s\n",
      "\n",
      "Cutting planes:\n",
      "  Gomory: 1\n",
      "\n",
      "Explored 269300 nodes (24291184 simplex iterations) in 300.06 seconds (243.85 work units)\n",
      "Thread count was 8 (of 8 available processors)\n",
      "\n",
      "Solution count 10: 0.0901057 0.0919491 0.0934124 ... 0.580983\n",
      "\n",
      "Time limit reached\n",
      "Best objective 9.010572835350e-02, best bound 4.782008605905e-03, gap 94.6929%\n",
      "w_0_0_0 = 0.0\n",
      "w_0_0_1 = 0.0\n",
      "w_0_0_2 = 0.0\n",
      "w_0_0_3 = 0.0\n",
      "w_0_1_0 = 0.0\n",
      "w_0_1_1 = 0.35006831700869556\n",
      "w_0_1_2 = 0.0918635767430107\n",
      "w_0_1_3 = 0.0\n",
      "w_0_2_0 = 0.0\n",
      "w_0_2_1 = 0.38347721070550767\n",
      "w_0_2_2 = 0.49035096540750145\n",
      "w_0_2_3 = 0.0\n",
      "w_0_3_0 = 0.0007694097774142931\n",
      "w_0_3_1 = 0.39082361717197894\n",
      "w_0_3_2 = 0.5394699680594245\n",
      "w_0_3_3 = 0.0\n",
      "w_0_4_0 = 0.009133066804800312\n",
      "w_0_4_1 = 0.39082361717197894\n",
      "w_0_4_2 = 0.5620802675739561\n",
      "w_0_4_3 = 0.0\n",
      "w_0_5_0 = 0.019729990896258594\n",
      "w_0_5_1 = 0.39082361717197894\n",
      "w_0_5_2 = 0.5894463919317625\n",
      "w_0_5_3 = 0.0\n",
      "w_1_0_0 = 0.0\n",
      "w_1_0_1 = 0.0\n",
      "w_1_0_2 = 0.0\n",
      "w_1_0_3 = 0.0\n",
      "w_1_1_0 = 0.17986917652670675\n",
      "w_1_1_1 = 0.0\n",
      "w_1_1_2 = 0.27538489462307497\n",
      "w_1_1_3 = 0.21423065982035835\n",
      "w_1_2_0 = 0.24624065416447877\n",
      "w_1_2_1 = 0.0\n",
      "w_1_2_2 = 0.2753848946230748\n",
      "w_1_2_3 = 0.23667086411850846\n",
      "w_1_3_0 = 0.2462406541644786\n",
      "w_1_3_1 = 0.0\n",
      "w_1_3_2 = 0.43680959426402605\n",
      "w_1_3_3 = 0.2572377963249566\n",
      "w_1_4_0 = 0.25063928995670687\n",
      "w_1_4_1 = 0.0\n",
      "w_1_4_2 = 0.45018893081586553\n",
      "w_1_4_3 = 0.2866093071279255\n",
      "w_1_5_0 = 0.25063928995670637\n",
      "w_1_5_1 = 0.0\n",
      "w_1_5_2 = 0.4501889308158648\n",
      "w_1_5_3 = 0.2991717792274291\n"
     ]
    },
    {
     "data": {
      "text/plain": [
       "<gurobi.Model MIP instance TwoClustersMIP: 1244 constrs, 1648 vars, Parameter changes: TimeLimit=300.0, Username=(user-defined)>"
      ]
     },
     "execution_count": 7,
     "metadata": {},
     "output_type": "execute_result"
    }
   ],
   "source": [
    "n_pieces = 5\n",
    "n_clusters = 2\n",
    "model_1 = TwoClustersMIP(n_pieces, n_clusters)\n",
    "model_1.fit(X[:400,:], Y[:400,:])"
   ]
  },
  {
   "cell_type": "code",
   "execution_count": 5,
   "metadata": {},
   "outputs": [
    {
     "name": "stdout",
     "output_type": "stream",
     "text": [
      "Set parameter Username\n",
      "Academic license - for non-commercial use only - expires 2025-01-29\n",
      "Read LP format model from file ../tmp/model_1.lp\n",
      "Reading time = 0.01 seconds\n",
      ": 644 rows, 848 columns, 6528 nonzeros\n",
      "Model loaded\n"
     ]
    }
   ],
   "source": [
    "n_pieces = 5\n",
    "n_clusters = 2\n",
    "model_1 = TwoClustersMIP(n_pieces, n_clusters)\n",
    "model_1.load_model(\"../tmp/model_1\")"
   ]
  },
  {
   "cell_type": "code",
   "execution_count": 6,
   "metadata": {},
   "outputs": [
    {
     "data": {
      "image/png": "[encoded data removed]",
      "text/plain": [
       "<Figure size 864x432 with 8 Axes>"
      ]
     },
     "metadata": {
      "needs_background": "light"
     },
     "output_type": "display_data"
    }
   ],
   "source": [
    "model_1.plot_UTA()"
   ]
  },
  {
   "cell_type": "code",
   "execution_count": 7,
   "metadata": {},
   "outputs": [
    {
     "name": "stdout",
     "output_type": "stream",
     "text": [
      "Collecting nbformat\n",
      "  Downloading nbformat-5.9.2-py3-none-any.whl.metadata (3.4 kB)\n",
      "Collecting fastjsonschema (from nbformat)\n",
      "  Using cached fastjsonschema-2.19.1-py3-none-any.whl.metadata (2.1 kB)\n",
      "Collecting jsonschema>=2.6 (from nbformat)\n",
      "  Downloading jsonschema-4.21.1-py3-none-any.whl.metadata (7.8 kB)\n",
      "Requirement already satisfied: jupyter-core in c:\\users\\melanie pacheco\\appdata\\roaming\\python\\python310\\site-packages (from nbformat) (4.10.0)\n",
      "Requirement already satisfied: traitlets>=5.1 in c:\\users\\melanie pacheco\\appdata\\roaming\\python\\python310\\site-packages (from nbformat) (5.1.1)\n",
      "Collecting attrs>=22.2.0 (from jsonschema>=2.6->nbformat)\n",
      "  Downloading attrs-23.2.0-py3-none-any.whl.metadata (9.5 kB)\n",
      "Collecting jsonschema-specifications>=2023.03.6 (from jsonschema>=2.6->nbformat)\n",
      "  Downloading jsonschema_specifications-2023.12.1-py3-none-any.whl.metadata (3.0 kB)\n",
      "Collecting referencing>=0.28.4 (from jsonschema>=2.6->nbformat)\n",
      "  Downloading referencing-0.33.0-py3-none-any.whl.metadata (2.7 kB)\n",
      "Collecting rpds-py>=0.7.1 (from jsonschema>=2.6->nbformat)\n",
      "  Downloading rpds_py-0.17.1-cp310-none-win_amd64.whl.metadata (4.2 kB)\n",
      "Requirement already satisfied: pywin32>=1.0 in c:\\users\\melanie pacheco\\appdata\\roaming\\python\\python310\\site-packages (from jupyter-core->nbformat) (303)\n",
      "Downloading nbformat-5.9.2-py3-none-any.whl (77 kB)\n",
      "   ---------------------------------------- 77.6/77.6 kB 1.1 MB/s eta 0:00:00\n",
      "Downloading jsonschema-4.21.1-py3-none-any.whl (85 kB)\n",
      "   ---------------------------------------- 85.5/85.5 kB 1.6 MB/s eta 0:00:00\n",
      "Using cached fastjsonschema-2.19.1-py3-none-any.whl (23 kB)\n",
      "Downloading attrs-23.2.0-py3-none-any.whl (60 kB)\n",
      "   ---------------------------------------- 60.8/60.8 kB 1.6 MB/s eta 0:00:00\n",
      "Downloading jsonschema_specifications-2023.12.1-py3-none-any.whl (18 kB)\n",
      "Downloading referencing-0.33.0-py3-none-any.whl (26 kB)\n",
      "Downloading rpds_py-0.17.1-cp310-none-win_amd64.whl (205 kB)\n",
      "   ---------------------------------------- 205.9/205.9 kB 1.2 MB/s eta 0:00:00\n",
      "Installing collected packages: fastjsonschema, rpds-py, attrs, referencing, jsonschema-specifications, jsonschema, nbformat\n",
      "Successfully installed attrs-23.2.0 fastjsonschema-2.19.1 jsonschema-4.21.1 jsonschema-specifications-2023.12.1 nbformat-5.9.2 referencing-0.33.0 rpds-py-0.17.1\n",
      "Note: you may need to restart the kernel to use updated packages.\n"
     ]
    },
    {
     "name": "stderr",
     "output_type": "stream",
     "text": [
      "\n",
      "[notice] A new release of pip is available: 23.3.1 -> 24.0\n",
      "[notice] To update, run: python.exe -m pip install --upgrade pip\n"
     ]
    }
   ],
   "source": [
    "%pip install nbformat"
   ]
  },
  {
   "cell_type": "code",
   "execution_count": 6,
   "metadata": {},
   "outputs": [
    {
     "data": {
      "text/plain": [
       "array([[0.93657   , 0.88211821],\n",
       "       [0.79652883, 0.52462606],\n",
       "       [0.73990371, 0.55963281],\n",
       "       [0.78438205, 0.78669874],\n",
       "       [0.47330736, 0.49072179],\n",
       "       [0.7843365 , 0.65004916],\n",
       "       [0.87607922, 0.68566112],\n",
       "       [0.77109077, 0.90544777],\n",
       "       [0.82257634, 0.80788596],\n",
       "       [0.75864197, 0.75647066]])"
      ]
     },
     "execution_count": 6,
     "metadata": {},
     "output_type": "execute_result"
    }
   ],
   "source": [
    "model_1.predict_utility(X[:10,:])"
   ]
  },
  {
   "cell_type": "code",
   "execution_count": 8,
   "metadata": {},
   "outputs": [
    {
     "name": "stdout",
     "output_type": "stream",
     "text": [
      "[[ 0.1643643  -0.0684184 ]\n",
      " [ 0.05998582 -0.43952765]\n",
      " [ 0.07245534 -0.35595293]\n",
      " [-0.10129529  0.27811151]\n",
      " [ 0.03799535 -0.02327618]\n",
      " [ 0.00861274  0.04515267]\n",
      " [-0.0795431   0.02526564]\n",
      " [-0.16347714  0.06513144]\n",
      " [ 0.19064757 -0.13647625]\n",
      " [ 0.04304814 -0.07050179]]\n"
     ]
    }
   ],
   "source": [
    "print((model_1.predict_utility(X[:10,:]) - model_1.predict_utility(Y)[:10,:])) "
   ]
  },
  {
   "cell_type": "code",
   "execution_count": 9,
   "metadata": {},
   "outputs": [
    {
     "name": "stdout",
     "output_type": "stream",
     "text": [
      "[[1 0]\n",
      " [1 0]\n",
      " [1 0]\n",
      " [0 1]\n",
      " [1 0]]\n"
     ]
    }
   ],
   "source": [
    "print(model_1.predict_preference(X, Y)[:5])"
   ]
  },
  {
   "cell_type": "code",
   "execution_count": 58,
   "metadata": {},
   "outputs": [
    {
     "data": {
      "text/plain": [
       "<models.RandomExampleModel at 0x23c119907c0>"
      ]
     },
     "execution_count": 58,
     "metadata": {},
     "output_type": "execute_result"
    }
   ],
   "source": [
    "# Let's train an example model\n",
    "model = RandomExampleModel() # Instantiation of the model with hyperparameters, if needed\n",
    "model.fit(X, Y) # Training of the model, using preference data"
   ]
  },
  {
   "cell_type": "code",
   "execution_count": 59,
   "metadata": {},
   "outputs": [
    {
     "name": "stdout",
     "output_type": "stream",
     "text": [
      "[[-0.02918935  0.26452602]\n",
      " [-0.23504386 -0.06949957]\n",
      " [-0.00167842 -0.08688312]\n",
      " [-0.05042343 -0.25713769]\n",
      " [-0.04372049  0.0350513 ]]\n"
     ]
    }
   ],
   "source": [
    "# First, let's see how our model reconsiders our preferences\n",
    "# Our data preferences were X[i] >> Y[i] for all i, let's see if our model agrees\n",
    "print((model.predict_utility(X) - model.predict_utility(Y))[:5]) # Preferred item has a higher utility\n",
    "\n",
    "# predict_utility returns utility of samples for each cluster, returning shape (n_samples, n_clusters)"
   ]
  },
  {
   "cell_type": "code",
   "execution_count": 7,
   "metadata": {},
   "outputs": [
    {
     "name": "stdout",
     "output_type": "stream",
     "text": [
      "[[0 1]\n",
      " [0 0]\n",
      " [0 0]\n",
      " [0 0]\n",
      " [0 1]]\n"
     ]
    }
   ],
   "source": [
    "# Or we can directly use the predict_preference method:\n",
    "print(model.predict_preference(X, Y)[:5]) # For each cluster we see if X is preferred to Y (0) or the contrary (1)\n",
    "# predict_preference returns preference of samples for each cluster, returning shape (n_samples, n_clusters)\n",
    "# 0 means that the cluster prefers first argument (here X[i]), 1 means that the cluster prefers second argument (here Y[i])"
   ]
  },
  {
   "cell_type": "code",
   "execution_count": 12,
   "metadata": {},
   "outputs": [
    {
     "data": {
      "image/png": "[encoded data removed]",
      "text/plain": [
       "<Figure size 432x288 with 1 Axes>"
      ]
     },
     "metadata": {
      "needs_background": "light"
     },
     "output_type": "display_data"
    }
   ],
   "source": [
    "# Here is a proposition of a useful plot to see how the model clusters the data:\n",
    "# We look at how each cluster evaluates U(x) - U(y) and color with ground truth clustering\n",
    "# Note that x >>_1 y means that x is preferred to y for cluster 1\n",
    "from matplotlib.patches import Rectangle\n",
    "from matplotlib.lines import Line2D\n",
    "\n",
    "plt.figure()\n",
    "plt.xlabel(\"U1(x) - U1(y)\")\n",
    "plt.ylabel(\"U2(x) - U2(y)\")\n",
    "\n",
    "plt.gca().add_patch(Rectangle((0,-1.),1., 2.,\n",
    "                    edgecolor='red',\n",
    "                    facecolor='none',\n",
    "                    lw=0, \n",
    "                    hatch='/'))\n",
    "plt.gca().add_patch(Rectangle((-1.,0), 2., 1.,\n",
    "                    edgecolor='green',\n",
    "                    facecolor='none',\n",
    "                    lw=0, \n",
    "                    hatch='\\\\'))\n",
    "plt.gca().add_patch(Rectangle((-1.,-1.),1., 1.,\n",
    "                    edgecolor='blue',\n",
    "                    facecolor='none',\n",
    "                    hatch='/',\n",
    "                    lw=0))\n",
    "plt.scatter(model_1.predict_utility(X)[:, 0]-model_1.predict_utility(Y)[:, 0], \n",
    "            model_1.predict_utility(X)[:, 1]-model_1.predict_utility(Y)[:, 1], c=Z)\n",
    "\n",
    "custom_lines = [Line2D([0], [0], color=\"red\", lw=4),\n",
    "                Line2D([0], [0], color=\"green\", lw=4),\n",
    "                Line2D([0], [0], color=\"b\", lw=4)]\n",
    "\n",
    "plt.legend(custom_lines, ['x >>_1 y', \"x >>_2 y \", 'No preference of x over y'])\n",
    "plt.show()"
   ]
  },
  {
   "cell_type": "code",
   "execution_count": 7,
   "metadata": {},
   "outputs": [
    {
     "name": "stdout",
     "output_type": "stream",
     "text": [
      "Percentage of explained preferences for 5 first samples: 0.8\n"
     ]
    }
   ],
   "source": [
    "# We consider that our model explains our data, if for at least one cluster, X[i] >> Y[i]\n",
    "pairs_explained = np.sum(model.predict_preference(X, Y)[:5] == 0, axis=1) # For each sample check if each clusters prefers X[i] (then is True)\n",
    "pairs_explained = pairs_explained > 0 # If at least one cluster prefers X[i], then X[i] >> Y[i] is explained\n",
    "print(\"Percentage of explained preferences for 5 first samples:\", np.sum(pairs_explained) / 5) # Get % or explained pairs"
   ]
  },
  {
   "cell_type": "code",
   "execution_count": 8,
   "metadata": {},
   "outputs": [
    {
     "name": "stdout",
     "output_type": "stream",
     "text": [
      "Percentage of explained preferences for all samples: 0.5845\n",
      "Percentage of explained preferences for all samples: 0.5845\n"
     ]
    }
   ],
   "source": [
    "# Or we call directly the right metric:\n",
    "pairs_explained = metrics.PairsExplained()\n",
    "print(\"Percentage of explained preferences for all samples:\", pairs_explained.from_model(model, X, Y))\n",
    "# Or other possibility:\n",
    "print(\"Percentage of explained preferences for all samples:\", pairs_explained(model.predict_utility(X), model.predict_utility(Y)))"
   ]
  },
  {
   "cell_type": "code",
   "execution_count": 9,
   "metadata": {},
   "outputs": [
    {
     "name": "stdout",
     "output_type": "stream",
     "text": [
      "[0 0 0 1 0]\n"
     ]
    }
   ],
   "source": [
    "# Now, we can also see how our model clusters our data\n",
    "print(model.predict_cluster(X, Y)[:5]) # Returns for each sample which cluster is the most likely to have generated the preference.\n",
    "# The most likely cluster is the one with the highest utility difference U(X[i])-U(Y[i]) for the sample."
   ]
  },
  {
   "cell_type": "code",
   "execution_count": 11,
   "metadata": {},
   "outputs": [
    {
     "name": "stdout",
     "output_type": "stream",
     "text": [
      "[0 0 0 1 0]\n"
     ]
    }
   ],
   "source": [
    "# Ground truth are also provided:\n",
    "Z = data_loader.get_ground_truth_labels()\n",
    "# We can see how it compares to our model's predictions:\n",
    "print(Z[:5])"
   ]
  },
  {
   "cell_type": "code",
   "execution_count": 11,
   "metadata": {},
   "outputs": [
    {
     "name": "stdout",
     "output_type": "stream",
     "text": [
      "Cluster intersection for 5 first samples: 1.0\n",
      "Cluster intersection for all samples: 0.6577508754377188\n",
      "Cluster intersection for all samples: 0.6577508754377188\n"
     ]
    }
   ],
   "source": [
    "# We have a metric to calculate how well the model has regrouped the preferences pairs compared to ground truth:\n",
    "cluster_intersection = metrics.ClusterIntersection()\n",
    "\n",
    "print(\"Cluster intersection for 5 first samples:\", cluster_intersection(model.predict_cluster(X, Y)[:5], Z[:5]))\n",
    "\n",
    "# Then for all data:\n",
    "print(\"Cluster intersection for all samples:\", cluster_intersection(model.predict_cluster(X, Y), Z))\n",
    "print(\"Cluster intersection for all samples:\", cluster_intersection.from_model(model, X, Y, Z))"
   ]
  },
  {
   "cell_type": "code",
   "execution_count": 12,
   "metadata": {},
   "outputs": [
    {
     "data": {
      "image/png": "[encoded data removed]",
      "text/plain": [
       "<Figure size 432x288 with 1 Axes>"
      ]
     },
     "metadata": {
      "needs_background": "light"
     },
     "output_type": "display_data"
    }
   ],
   "source": [
    "# Here is a proposition of a useful plot to see how the model clusters the data:\n",
    "# We look at how each cluster evaluates U(x) - U(y) and color with ground truth clustering\n",
    "# Note that x >>_1 y means that x is preferred to y for cluster 1\n",
    "from matplotlib.patches import Rectangle\n",
    "from matplotlib.lines import Line2D\n",
    "\n",
    "plt.figure()\n",
    "plt.xlabel(\"U1(x) - U1(y)\")\n",
    "plt.ylabel(\"U2(x) - U2(y)\")\n",
    "\n",
    "plt.gca().add_patch(Rectangle((0,-1.),1., 2.,\n",
    "                    edgecolor='red',\n",
    "                    facecolor='none',\n",
    "                    lw=0, \n",
    "                    hatch='/'))\n",
    "plt.gca().add_patch(Rectangle((-1.,0), 2., 1.,\n",
    "                    edgecolor='green',\n",
    "                    facecolor='none',\n",
    "                    lw=0, \n",
    "                    hatch='\\\\'))\n",
    "plt.gca().add_patch(Rectangle((-1.,-1.),1., 1.,\n",
    "                    edgecolor='blue',\n",
    "                    facecolor='none',\n",
    "                    hatch='/',\n",
    "                    lw=0))\n",
    "plt.scatter(model.predict_utility(X)[:, 0]-model.predict_utility(Y)[:, 0], \n",
    "            model.predict_utility(X)[:, 1]-model.predict_utility(Y)[:, 1], c=Z)\n",
    "\n",
    "custom_lines = [Line2D([0], [0], color=\"red\", lw=4),\n",
    "                Line2D([0], [0], color=\"green\", lw=4),\n",
    "                Line2D([0], [0], color=\"b\", lw=4)]\n",
    "\n",
    "plt.legend(custom_lines, ['x >>_1 y', \"x >>_2 y \", 'No preference of x over y'])\n",
    "plt.show()"
   ]
  },
  {
   "cell_type": "markdown",
   "metadata": {},
   "source": [
    "Our random model cannot explain a large part of our preference data. Your first assigment will be to write a Mixed-Interger Programming algorithm that will be able to do so."
   ]
  },
  {
   "cell_type": "code",
   "execution_count": 13,
   "metadata": {},
   "outputs": [],
   "source": [
    "# This cell should work when you have completed the TwoClustersMIP model\n",
    "from models import TwoClustersMIP\n",
    "\n",
    "parameters = {\"n_pieces\": 5, \"n_clusters\": 2} # Can be completed\n",
    "model = TwoClustersMIP(**parameters)\n",
    "model.fit(X, Y)\n",
    "\n",
    "# Uncomment once your model is working\n",
    "# print(\"Percentage of explained preferences on train data:\", pairs_explained.from_model(model, X, Y)) # You should get 1.0 with the right MIP\n",
    "# print(\"Percentage of preferences well regrouped into clusters:\", cluster_intersection.from_model(model, X, Y, Z))"
   ]
  },
  {
   "cell_type": "code",
   "execution_count": null,
   "metadata": {},
   "outputs": [],
   "source": [
    "# As an example here are the results obtained with:\n",
    "\"\"\" # Uncomment the code to check your results\n",
    "plt.figure()\n",
    "plt.scatter(model.predict_utility(X)[:, 0]-model.predict_utility(Y)[:, 0], \n",
    "            model.predict_utility(X)[:, 1]-model.predict_utility(Y)[:, 1], c=Z)\n",
    "plt.xlabel(\"U1(x) - U1(y)\")\n",
    "plt.ylabel(\"U2(x) - U2(y)\")\n",
    "plt.show()\n",
    "\"\"\"\n",
    "# Here is how it should look like\n",
    "from IPython.display import Image\n",
    "Image(\"../images/MIP_results_example.png\")"
   ]
  },
  {
   "cell_type": "markdown",
   "metadata": {},
   "source": [
    "Your second assignement will be to find another model that will work well with larger data instances."
   ]
  },
  {
   "cell_type": "code",
   "execution_count": 17,
   "metadata": {},
   "outputs": [
    {
     "name": "stdout",
     "output_type": "stream",
     "text": [
      "[0.         0.05050505 0.1010101  0.15151515 0.2020202  0.25252525\n",
      " 0.3030303  0.35353535 0.4040404  0.45454545 0.50505051 0.55555556\n",
      " 0.60606061 0.65656566 0.70707071 0.75757576 0.80808081 0.85858586\n",
      " 0.90909091 0.95959596 1.01010101 1.06060606 1.11111111 1.16161616\n",
      " 1.21212121 1.26262626 1.31313131 1.36363636 1.41414141 1.46464646\n",
      " 1.51515152 1.56565657 1.61616162 1.66666667 1.71717172 1.76767677\n",
      " 1.81818182 1.86868687 1.91919192 1.96969697 2.02020202 2.07070707\n",
      " 2.12121212 2.17171717 2.22222222 2.27272727 2.32323232 2.37373737\n",
      " 2.42424242 2.47474747 2.52525253 2.57575758 2.62626263 2.67676768\n",
      " 2.72727273 2.77777778 2.82828283 2.87878788 2.92929293 2.97979798\n",
      " 2.96969697 2.91919192 2.86868687 2.81818182 2.76767677 2.71717172\n",
      " 2.66666667 2.61616162 2.56565657 2.51515152 2.46464646 2.41414141\n",
      " 2.36363636 2.31313131 2.26262626 2.21212121 2.16161616 2.11111111\n",
      " 2.06060606 2.01010101 1.91919192 1.81818182 1.71717172 1.61616162\n",
      " 1.51515152 1.41414141 1.31313131 1.21212121 1.11111111 1.01010101\n",
      " 0.90909091 0.80808081 0.70707071 0.60606061 0.50505051 0.4040404\n",
      " 0.3030303  0.2020202  0.1010101  0.        ]\n",
      "Gurobi Optimizer version 10.0.3 build v10.0.3rc0 (win64)\n",
      "\n",
      "CPU model: 11th Gen Intel(R) Core(TM) i5-1135G7 @ 2.40GHz, instruction set [SSE2|AVX|AVX2|AVX512]\n",
      "Thread count: 4 physical cores, 8 logical processors, using up to 8 threads\n",
      "\n",
      "Optimize a model with 0 rows, 2 columns and 0 nonzeros\n",
      "Model fingerprint: 0xf001e6ef\n",
      "Coefficient statistics:\n",
      "  Matrix range     [0e+00, 0e+00]\n",
      "  Objective range  [1e+00, 1e+00]\n",
      "  Bounds range     [5e+00, 5e+00]\n",
      "  RHS range        [0e+00, 0e+00]\n",
      "Presolve removed 0 rows and 2 columns\n",
      "Presolve time: 0.02s\n",
      "Presolve: All rows and columns removed\n",
      "Iteration    Objective       Primal Inf.    Dual Inf.      Time\n",
      "       0    0.0000000e+00   0.000000e+00   0.000000e+00      0s\n",
      "\n",
      "Solved in 0 iterations and 0.02 seconds (0.00 work units)\n",
      "Optimal objective  0.000000000e+00\n"
     ]
    },
    {
     "data": {
      "image/png": "[encoded data removed]",
      "text/plain": [
       "<Figure size 432x288 with 1 Axes>"
      ]
     },
     "metadata": {
      "needs_background": "light"
     },
     "output_type": "display_data"
    }
   ],
   "source": [
    "import matplotlib.pyplot as plt\n",
    "import numpy as np\n",
    "\n",
    "# Define the piecewise linear function\n",
    "breakpoints = [0, 1, 2, 3, 4, 5]\n",
    "values = [0, 1, 2, 3, 2, 0]\n",
    "\n",
    "# Create a range of x values for the plot\n",
    "x_values = np.linspace(0, 5, 100)\n",
    "y_values = np.interp(x_values, breakpoints, values)\n",
    "\n",
    "# Create a Gurobi optimization model (just for reference)\n",
    "model = Model()\n",
    "x = model.addVar(lb=0, ub=5, name=\"x\")\n",
    "y = model.addVar(lb=0, ub=5, name=\"y\")\n",
    "model.setObjective(y, GRB.MINIMIZE)\n",
    "model.optimize()\n",
    "\n",
    "# Get the optimal value of x from the model\n",
    "optimal_x = x.X\n",
    "\n",
    "# Plot the piecewise linear function\n",
    "plt.plot(x_values, y_values, label=\"Piecewise Linear Function\")\n",
    "plt.scatter([optimal_x], [np.interp(optimal_x, breakpoints, values)], color='red', label=\"Optimal Point\")\n",
    "plt.xlabel(\"x\")\n",
    "plt.ylabel(\"y\")\n",
    "plt.legend()\n",
    "plt.grid(True)\n",
    "plt.title(\"Piecewise Linear Function and Optimal Point\")\n",
    "plt.show()\n"
   ]
  },
  {
   "cell_type": "code",
   "execution_count": 12,
   "metadata": {},
   "outputs": [
    {
     "ename": "AttributeError",
     "evalue": "Index out of range for attribute 'LB'",
     "output_type": "error",
     "traceback": [
      "\u001b[1;31m---------------------------------------------------------------------------\u001b[0m",
      "\u001b[1;31mAttributeError\u001b[0m                            Traceback (most recent call last)",
      "Input \u001b[1;32mIn [12]\u001b[0m, in \u001b[0;36m<cell line: 25>\u001b[1;34m()\u001b[0m\n\u001b[0;32m     26\u001b[0m in_segment \u001b[38;5;241m=\u001b[39m \u001b[38;5;28;01mNone\u001b[39;00m\n\u001b[0;32m     27\u001b[0m \u001b[38;5;28;01mfor\u001b[39;00m i \u001b[38;5;129;01min\u001b[39;00m \u001b[38;5;28mrange\u001b[39m(num_breakpoints \u001b[38;5;241m-\u001b[39m \u001b[38;5;241m1\u001b[39m):\n\u001b[1;32m---> 28\u001b[0m     \u001b[38;5;28;01mif\u001b[39;00m x \u001b[38;5;241m>\u001b[39m\u001b[38;5;241m=\u001b[39m \u001b[43mbreakpoints\u001b[49m\u001b[43m[\u001b[49m\u001b[43mi\u001b[49m\u001b[43m]\u001b[49m\u001b[38;5;241;43m.\u001b[39;49m\u001b[43mLB\u001b[49m \u001b[38;5;129;01mand\u001b[39;00m x \u001b[38;5;241m<\u001b[39m breakpoints[i \u001b[38;5;241m+\u001b[39m \u001b[38;5;241m1\u001b[39m]\u001b[38;5;241m.\u001b[39mUB:\n\u001b[0;32m     29\u001b[0m         in_segment \u001b[38;5;241m=\u001b[39m i\n\u001b[0;32m     30\u001b[0m         \u001b[38;5;28;01mbreak\u001b[39;00m\n",
      "File \u001b[1;32msrc\\gurobipy\\var.pxi:125\u001b[0m, in \u001b[0;36mgurobipy.Var.__getattr__\u001b[1;34m()\u001b[0m\n",
      "File \u001b[1;32msrc\\gurobipy\\var.pxi:153\u001b[0m, in \u001b[0;36mgurobipy.Var.getAttr\u001b[1;34m()\u001b[0m\n",
      "File \u001b[1;32msrc\\gurobipy\\attrutil.pxi:100\u001b[0m, in \u001b[0;36mgurobipy.__getattr\u001b[1;34m()\u001b[0m\n",
      "\u001b[1;31mAttributeError\u001b[0m: Index out of range for attribute 'LB'"
     ]
    }
   ],
   "source": [
    "from gurobipy import *\n",
    "\n",
    "# Given points\n",
    "given_points = [(1, 2), (2, 4), (3, 1), (4, 3), (5, 5)]\n",
    "\n",
    "# Create a Gurobi optimization model\n",
    "model = Model()\n",
    "\n",
    "# Number of breakpoints (3 pieces means 4 breakpoints)\n",
    "num_breakpoints = 4\n",
    "\n",
    "# Create variables for breakpoints and values\n",
    "breakpoints = []\n",
    "values = []\n",
    "\n",
    "for i in range(num_breakpoints):\n",
    "    breakpoints.append(model.addVar(lb=1, ub=5, name=f\"breakpoint_{i}\"))\n",
    "\n",
    "for i in range(num_breakpoints - 1):\n",
    "    values.append(model.addVar(lb=0, ub=5, name=f\"value_{i}\"))\n",
    "\n",
    "# Define the objective function (minimize sum of squared errors)\n",
    "error_terms = []\n",
    "\n",
    "for x, y in given_points:\n",
    "    in_segment = None\n",
    "    for i in range(num_breakpoints - 1):\n",
    "        if x >= breakpoints[i].LB and x < breakpoints[i + 1].UB:\n",
    "            in_segment = i\n",
    "            break\n",
    "    if in_segment is not None:\n",
    "        predicted_y = values[in_segment].X + (x - breakpoints[in_segment].X) * (\n",
    "                    values[in_segment + 1].X - values[in_segment].X) / (\n",
    "                                  breakpoints[in_segment + 1].X - breakpoints[in_segment].X)\n",
    "        error_terms.append((y - predicted_y) ** 2)\n",
    "\n",
    "model.setObjective(quicksum(error_terms), GRB.MINIMIZE)\n",
    "\n",
    "# Add constraints to ensure breakpoints are in ascending order\n",
    "for i in range(num_breakpoints - 1):\n",
    "    model.addConstr(breakpoints[i] <= breakpoints[i + 1], f\"order_constraint_{i}\")\n",
    "\n",
    "# Optimize the model\n",
    "model.optimize()\n",
    "\n",
    "# Print the optimal solution\n",
    "if model.status == GRB.OPTIMAL:\n",
    "    print(\"Optimal Solution:\")\n",
    "    for i in range(num_breakpoints):\n",
    "        print(f\"breakpoint_{i} = {breakpoints[i].X}\")\n",
    "    for i in range(num_breakpoints - 1):\n",
    "        print(f\"value_{i} = {values[i].X}\")\n",
    "else:\n",
    "    print(\"No solution found.\")\n"
   ]
  },
  {
   "cell_type": "code",
   "execution_count": 19,
   "metadata": {},
   "outputs": [
    {
     "name": "stdout",
     "output_type": "stream",
     "text": [
      "Gurobi Optimizer version 10.0.3 build v10.0.3rc0 (win64)\n",
      "\n",
      "CPU model: 11th Gen Intel(R) Core(TM) i5-1135G7 @ 2.40GHz, instruction set [SSE2|AVX|AVX2|AVX512]\n",
      "Thread count: 4 physical cores, 8 logical processors, using up to 8 threads\n",
      "\n",
      "Optimize a model with 0 rows, 3 columns and 0 nonzeros\n",
      "Model fingerprint: 0x12ca88f7\n",
      "Model has 5 quadratic objective terms\n",
      "Coefficient statistics:\n",
      "  Matrix range     [0e+00, 0e+00]\n",
      "  Objective range  [4e+00, 2e+01]\n"
     ]
    },
    {
     "name": "stdout",
     "output_type": "stream",
     "text": [
      "  QObjective range [1e+00, 5e+00]\n",
      "  Bounds range     [0e+00, 0e+00]\n",
      "  RHS range        [0e+00, 0e+00]\n",
      "Presolve time: 0.03s\n",
      "Presolved: 0 rows, 3 columns, 0 nonzeros\n",
      "Presolved model has 5 quadratic objective terms\n",
      "Ordering time: 0.00s\n",
      "\n",
      "Barrier statistics:\n",
      " Free vars  : 5\n",
      " AA' NZ     : 1.000e+00\n",
      " Factor NZ  : 3.000e+00\n",
      " Factor Ops : 5.000e+00 (less than 1 second per iteration)\n",
      " Threads    : 1\n",
      "\n",
      "                  Objective                Residual\n",
      "Iter       Primal          Dual         Primal    Dual     Compl     Time\n",
      "   0   5.50000000e+01  5.50000000e+01  0.00e+00 5.25e+00  0.00e+00     0s\n",
      "   1   7.36842108e-01  7.36956859e-01  4.34e-10 7.21e-06  0.00e+00     0s\n",
      "   2   7.36842105e-01  7.36842105e-01  7.95e-14 7.23e-12  0.00e+00     0s\n",
      "\n",
      "Barrier solved model in 2 iterations and 0.05 seconds (0.00 work units)\n",
      "Optimal objective 7.36842105e-01\n",
      "\n",
      "Optimal y-values at breakpoints: [1.157894736841037, 2.210526315784866, 4.421052631574788]\n"
     ]
    }
   ],
   "source": [
    "from gurobipy import Model, GRB, quicksum\n",
    "import numpy as np\n",
    "\n",
    "# Define the piecewise linear function\n",
    "breakpoints = [1, 2, 3]  # breakpoints\n",
    "\n",
    "# Dataset\n",
    "x_data = np.array([0.5, 1.5, 2.5, 3.5, 4.5])  # x-values\n",
    "y_data = np.array([1, 2, 3, 4, 5])  # y-values\n",
    "\n",
    "# Create a Gurobi optimization model\n",
    "model = Model()\n",
    "\n",
    "# Add variables for the y-values at the breakpoints\n",
    "y = model.addVars(breakpoints, lb=-GRB.INFINITY, name=\"y\")\n",
    "\n",
    "# Define the piecewise linear function\n",
    "def piecewise_linear(x):\n",
    "    if x < breakpoints[0]:\n",
    "        return y[breakpoints[0]]\n",
    "    elif x < breakpoints[1]:\n",
    "        return y[breakpoints[0]] + (x - breakpoints[0]) * (y[breakpoints[1]] - y[breakpoints[0]]) / (breakpoints[1] - breakpoints[0])\n",
    "    elif x < breakpoints[2]:\n",
    "        return y[breakpoints[1]] + (x - breakpoints[1]) * (y[breakpoints[2]] - y[breakpoints[1]]) / (breakpoints[2] - breakpoints[1])\n",
    "    else:\n",
    "        return y[breakpoints[2]]\n",
    "\n",
    "# Set the objective to minimize the sum of squared errors\n",
    "model.setObjective(quicksum((y_data[i] - piecewise_linear(x_data[i]))**2 for i in range(len(x_data))), GRB.MINIMIZE)\n",
    "\n",
    "# Optimize the model\n",
    "model.optimize()\n",
    "\n",
    "# Get the optimal y-values at the breakpoints\n",
    "optimal_values = [y[i].X for i in breakpoints]\n",
    "\n",
    "print(\"Optimal y-values at breakpoints:\", optimal_values)"
   ]
  },
  {
   "cell_type": "code",
   "execution_count": 21,
   "metadata": {},
   "outputs": [
    {
     "data": {
      "image/png": "[encoded data removed]",
      "text/plain": [
       "<Figure size 432x288 with 1 Axes>"
      ]
     },
     "metadata": {
      "needs_background": "light"
     },
     "output_type": "display_data"
    }
   ],
   "source": [
    "import matplotlib.pyplot as plt\n",
    "\n",
    "# Plot the dataset\n",
    "plt.scatter(x_data, y_data, color='blue', label='Data points')\n",
    "\n",
    "# Generate x-values for the piecewise function\n",
    "x_values = np.linspace(min(x_data), max(x_data), 1000)\n",
    "\n",
    "# Define a function to get the y-value for a given x-value\n",
    "def get_y_value(x):\n",
    "    if x <= breakpoints[0]:\n",
    "        return y[breakpoints[0]].X\n",
    "    elif x <= breakpoints[1]:\n",
    "        return y[breakpoints[0]].X + (x - breakpoints[0]) * (y[breakpoints[1]].X - y[breakpoints[0]].X) / (breakpoints[1] - breakpoints[0])\n",
    "    elif x <= breakpoints[2]:\n",
    "        return y[breakpoints[1]].X + (x - breakpoints[1]) * (y[breakpoints[2]].X - y[breakpoints[1]].X) / (breakpoints[2] - breakpoints[1])\n",
    "    else:\n",
    "        return y[breakpoints[2]].X\n",
    "\n",
    "# Generate y-values for the piecewise function\n",
    "y_values = [get_y_value(x) for x in x_values]\n",
    "\n",
    "# Plot the piecewise function\n",
    "plt.plot(x_values, y_values, color='red', label='Piecewise linear function')\n",
    "\n",
    "plt.legend()\n",
    "plt.show()"
   ]
  },
  {
   "cell_type": "code",
   "execution_count": 22,
   "metadata": {},
   "outputs": [
    {
     "data": {
      "image/png": "[encoded data removed]",
      "text/plain": [
       "<Figure size 432x288 with 1 Axes>"
      ]
     },
     "metadata": {
      "needs_background": "light"
     },
     "output_type": "display_data"
    }
   ],
   "source": [
    "# Define the conditions\n",
    "conditions = [x_values <= breakpoints[0], \n",
    "              (x_values > breakpoints[0]) & (x_values <= breakpoints[1]), \n",
    "              (x_values > breakpoints[1]) & (x_values <= breakpoints[2]), \n",
    "              x_values > breakpoints[2]]\n",
    "\n",
    "# Define the functions\n",
    "functions = [lambda x: y[breakpoints[0]].X, \n",
    "             lambda x: y[breakpoints[0]].X + (x - breakpoints[0]) * (y[breakpoints[1]].X - y[breakpoints[0]].X) / (breakpoints[1] - breakpoints[0]), \n",
    "             lambda x: y[breakpoints[1]].X + (x - breakpoints[1]) * (y[breakpoints[2]].X - y[breakpoints[1]].X) / (breakpoints[2] - breakpoints[1]), \n",
    "             lambda x: y[breakpoints[2]].X]\n",
    "\n",
    "# Generate y-values for the piecewise function\n",
    "y_values = np.piecewise(x_values, conditions, functions)\n",
    "\n",
    "# Plot the piecewise function\n",
    "plt.plot(x_values, y_values, color='red', label='Piecewise linear function')\n",
    "\n",
    "plt.legend()\n",
    "plt.show()"
   ]
  },
  {
   "cell_type": "code",
   "execution_count": 23,
   "metadata": {},
   "outputs": [
    {
     "ename": "TypeError",
     "evalue": "unsupported operand type(s) for *: 'Var' and 'TempConstr'",
     "output_type": "error",
     "traceback": [
      "\u001b[1;31m---------------------------------------------------------------------------\u001b[0m",
      "\u001b[1;31mTypeError\u001b[0m                                 Traceback (most recent call last)",
      "Input \u001b[1;32mIn [23]\u001b[0m, in \u001b[0;36m<cell line: 36>\u001b[1;34m()\u001b[0m\n\u001b[0;32m     34\u001b[0m \u001b[38;5;66;03m# Example usage\u001b[39;00m\n\u001b[0;32m     35\u001b[0m points \u001b[38;5;241m=\u001b[39m [(\u001b[38;5;241m1\u001b[39m, \u001b[38;5;241m2\u001b[39m), (\u001b[38;5;241m2\u001b[39m, \u001b[38;5;241m3\u001b[39m), (\u001b[38;5;241m3\u001b[39m, \u001b[38;5;241m4\u001b[39m), (\u001b[38;5;241m4\u001b[39m, \u001b[38;5;241m5\u001b[39m), (\u001b[38;5;241m5\u001b[39m, \u001b[38;5;241m6\u001b[39m)]\n\u001b[1;32m---> 36\u001b[0m breakpoints \u001b[38;5;241m=\u001b[39m \u001b[43mfind_breakpoints\u001b[49m\u001b[43m(\u001b[49m\u001b[43mpoints\u001b[49m\u001b[43m)\u001b[49m\n\u001b[0;32m     37\u001b[0m \u001b[38;5;28mprint\u001b[39m(\u001b[38;5;124m\"\u001b[39m\u001b[38;5;124mOptimal Breakpoints:\u001b[39m\u001b[38;5;124m\"\u001b[39m, breakpoints)\n",
      "Input \u001b[1;32mIn [23]\u001b[0m, in \u001b[0;36mfind_breakpoints\u001b[1;34m(points, num_breakpoints)\u001b[0m\n\u001b[0;32m     16\u001b[0m     piecewise_expr \u001b[38;5;241m=\u001b[39m \u001b[38;5;241m0\u001b[39m\n\u001b[0;32m     17\u001b[0m     \u001b[38;5;28;01mfor\u001b[39;00m i \u001b[38;5;129;01min\u001b[39;00m \u001b[38;5;28mrange\u001b[39m(num_breakpoints):\n\u001b[1;32m---> 18\u001b[0m         piecewise_expr \u001b[38;5;241m+\u001b[39m\u001b[38;5;241m=\u001b[39m \u001b[43mbreakpoints\u001b[49m\u001b[43m[\u001b[49m\u001b[43mi\u001b[49m\u001b[43m]\u001b[49m\u001b[43m \u001b[49m\u001b[38;5;241;43m*\u001b[39;49m\u001b[43m \u001b[49m\u001b[43m(\u001b[49m\u001b[43mx\u001b[49m\u001b[43m \u001b[49m\u001b[38;5;241;43m>\u001b[39;49m\u001b[38;5;241;43m=\u001b[39;49m\u001b[43m \u001b[49m\u001b[43mbreakpoints\u001b[49m\u001b[43m[\u001b[49m\u001b[43mi\u001b[49m\u001b[43m]\u001b[49m\u001b[43m)\u001b[49m\n\u001b[0;32m     19\u001b[0m     objective \u001b[38;5;241m+\u001b[39m\u001b[38;5;241m=\u001b[39m (y \u001b[38;5;241m-\u001b[39m piecewise_expr) \u001b[38;5;241m*\u001b[39m\u001b[38;5;241m*\u001b[39m \u001b[38;5;241m2\u001b[39m\n\u001b[0;32m     20\u001b[0m model\u001b[38;5;241m.\u001b[39msetObjective(objective, GRB\u001b[38;5;241m.\u001b[39mMINIMIZE)\n",
      "\u001b[1;31mTypeError\u001b[0m: unsupported operand type(s) for *: 'Var' and 'TempConstr'"
     ]
    }
   ],
   "source": [
    "import gurobipy as gp\n",
    "from gurobipy import GRB\n",
    "\n",
    "def find_breakpoints(points, num_breakpoints=3):\n",
    "    # Create a Gurobi model\n",
    "    model = gp.Model(\"PiecewiseLinearFit\")\n",
    "\n",
    "    # Define the decision variables (breakpoints)\n",
    "    breakpoints = []\n",
    "    for i in range(num_breakpoints):\n",
    "        breakpoints.append(model.addVar(vtype=GRB.CONTINUOUS, name=f\"breakpoint_{i}\"))\n",
    "\n",
    "    # Set up the objective function to minimize the sum of squared errors\n",
    "    objective = 0\n",
    "    for x, y in points:\n",
    "        piecewise_expr = 0\n",
    "        for i in range(num_breakpoints):\n",
    "            piecewise_expr += breakpoints[i] * (x >= breakpoints[i])\n",
    "        objective += (y - piecewise_expr) ** 2\n",
    "    model.setObjective(objective, GRB.MINIMIZE)\n",
    "\n",
    "    # Add constraints to ensure breakpoints are in ascending order\n",
    "    for i in range(num_breakpoints - 1):\n",
    "        model.addConstr(breakpoints[i] <= breakpoints[i + 1])\n",
    "\n",
    "    # Optimize the model\n",
    "    model.optimize()\n",
    "\n",
    "    # Extract the values of the breakpoints\n",
    "    breakpoint_values = [breakpoints[i].X for i in range(num_breakpoints)]\n",
    "\n",
    "    return breakpoint_values\n",
    "\n",
    "# Example usage\n",
    "points = [(1, 2), (2, 3), (3, 4), (4, 5), (5, 6)]\n",
    "breakpoints = find_breakpoints(points)\n",
    "print(\"Optimal Breakpoints:\", breakpoints)\n"
   ]
  },
  {
   "cell_type": "code",
   "execution_count": 24,
   "metadata": {},
   "outputs": [
    {
     "ename": "TypeError",
     "evalue": "unsupported operand type(s) for ** or pow(): 'gurobipy.QuadExpr' and 'int'",
     "output_type": "error",
     "traceback": [
      "\u001b[1;31m---------------------------------------------------------------------------\u001b[0m",
      "\u001b[1;31mTypeError\u001b[0m                                 Traceback (most recent call last)",
      "Input \u001b[1;32mIn [24]\u001b[0m, in \u001b[0;36m<cell line: 39>\u001b[1;34m()\u001b[0m\n\u001b[0;32m     37\u001b[0m \u001b[38;5;66;03m# Example usage\u001b[39;00m\n\u001b[0;32m     38\u001b[0m points \u001b[38;5;241m=\u001b[39m [(\u001b[38;5;241m1\u001b[39m, \u001b[38;5;241m2\u001b[39m), (\u001b[38;5;241m2\u001b[39m, \u001b[38;5;241m3\u001b[39m), (\u001b[38;5;241m3\u001b[39m, \u001b[38;5;241m4\u001b[39m), (\u001b[38;5;241m4\u001b[39m, \u001b[38;5;241m5\u001b[39m), (\u001b[38;5;241m5\u001b[39m, \u001b[38;5;241m6\u001b[39m)]\n\u001b[1;32m---> 39\u001b[0m breakpoints \u001b[38;5;241m=\u001b[39m \u001b[43mfind_breakpoints\u001b[49m\u001b[43m(\u001b[49m\u001b[43mpoints\u001b[49m\u001b[43m)\u001b[49m\n\u001b[0;32m     40\u001b[0m \u001b[38;5;28mprint\u001b[39m(\u001b[38;5;124m\"\u001b[39m\u001b[38;5;124mOptimal Breakpoints:\u001b[39m\u001b[38;5;124m\"\u001b[39m, breakpoints)\n",
      "Input \u001b[1;32mIn [24]\u001b[0m, in \u001b[0;36mfind_breakpoints\u001b[1;34m(points, num_breakpoints)\u001b[0m\n\u001b[0;32m     20\u001b[0m         piecewise_expr \u001b[38;5;241m+\u001b[39m\u001b[38;5;241m=\u001b[39m breakpoints[i] \u001b[38;5;241m*\u001b[39m binary_vars[i][j]\n\u001b[0;32m     21\u001b[0m         model\u001b[38;5;241m.\u001b[39maddConstr(binary_vars[i][j] \u001b[38;5;241m>\u001b[39m\u001b[38;5;241m=\u001b[39m (x \u001b[38;5;241m-\u001b[39m breakpoints[i]) \u001b[38;5;241m/\u001b[39m (\u001b[38;5;28mmax\u001b[39m(points)[\u001b[38;5;241m0\u001b[39m] \u001b[38;5;241m-\u001b[39m \u001b[38;5;28mmin\u001b[39m(points)[\u001b[38;5;241m0\u001b[39m]))\n\u001b[1;32m---> 22\u001b[0m     objective \u001b[38;5;241m+\u001b[39m\u001b[38;5;241m=\u001b[39m \u001b[43m(\u001b[49m\u001b[43my\u001b[49m\u001b[43m \u001b[49m\u001b[38;5;241;43m-\u001b[39;49m\u001b[43m \u001b[49m\u001b[43mpiecewise_expr\u001b[49m\u001b[43m)\u001b[49m\u001b[43m \u001b[49m\u001b[38;5;241;43m*\u001b[39;49m\u001b[38;5;241;43m*\u001b[39;49m\u001b[43m \u001b[49m\u001b[38;5;241;43m2\u001b[39;49m\n\u001b[0;32m     23\u001b[0m model\u001b[38;5;241m.\u001b[39msetObjective(objective, GRB\u001b[38;5;241m.\u001b[39mMINIMIZE)\n\u001b[0;32m     25\u001b[0m \u001b[38;5;66;03m# Add constraints to ensure breakpoints are in ascending order\u001b[39;00m\n",
      "\u001b[1;31mTypeError\u001b[0m: unsupported operand type(s) for ** or pow(): 'gurobipy.QuadExpr' and 'int'"
     ]
    }
   ],
   "source": [
    "def find_breakpoints(points, num_breakpoints=3):\n",
    "    # Create a Gurobi model\n",
    "    model = gp.Model(\"PiecewiseLinearFit\")\n",
    "\n",
    "    # Define the decision variables (breakpoints)\n",
    "    breakpoints = []\n",
    "    for i in range(num_breakpoints):\n",
    "        breakpoints.append(model.addVar(vtype=GRB.CONTINUOUS, name=f\"breakpoint_{i}\"))\n",
    "\n",
    "    # Define the binary variables\n",
    "    binary_vars = []\n",
    "    for i in range(num_breakpoints):\n",
    "        binary_vars.append(model.addVars(len(points), vtype=GRB.BINARY, name=f\"binary_{i}\"))\n",
    "\n",
    "    # Set up the objective function to minimize the sum of squared errors\n",
    "    objective = 0\n",
    "    for j, (x, y) in enumerate(points):\n",
    "        piecewise_expr = 0\n",
    "        for i in range(num_breakpoints):\n",
    "            piecewise_expr += breakpoints[i] * binary_vars[i][j]\n",
    "            model.addConstr(binary_vars[i][j] >= (x - breakpoints[i]) / (max(points)[0] - min(points)[0]))\n",
    "        objective += (y - piecewise_expr) ** 2\n",
    "    model.setObjective(objective, GRB.MINIMIZE)\n",
    "\n",
    "    # Add constraints to ensure breakpoints are in ascending order\n",
    "    for i in range(num_breakpoints - 1):\n",
    "        model.addConstr(breakpoints[i] <= breakpoints[i + 1])\n",
    "\n",
    "    # Optimize the model\n",
    "    model.optimize()\n",
    "\n",
    "    # Extract the values of the breakpoints\n",
    "    breakpoint_values = [breakpoints[i].X for i in range(num_breakpoints)]\n",
    "\n",
    "    return breakpoint_values\n",
    "\n",
    "# Example usage\n",
    "points = [(1, 2), (2, 3), (3, 4), (4, 5), (5, 6)]\n",
    "breakpoints = find_breakpoints(points)\n",
    "print(\"Optimal Breakpoints:\", breakpoints)"
   ]
  }
 ],
 "metadata": {
  "kernelspec": {
   "display_name": "start_env",
   "language": "python",
   "name": "python3"
  },
  "language_info": {
   "codemirror_mode": {
    "name": "ipython",
    "version": 3
   },
   "file_extension": ".py",
   "mimetype": "text/x-python",
   "name": "python",
   "nbconvert_exporter": "python",
   "pygments_lexer": "ipython3",
   "version": "3.10.13"
  }
 },
 "nbformat": 4,
 "nbformat_minor": 2
}
